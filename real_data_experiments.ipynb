{
 "cells": [
  {
   "cell_type": "code",
   "execution_count": null,
   "id": "c320a14a",
   "metadata": {},
   "outputs": [],
   "source": [
    "# types of runs for each experiment\n",
    "# 1. uncalibrated              - original model without conformal at all\n",
    "# 2. fixed budgeting           - share_budget=False and min_sample_size=None and naive=True\n",
    "# 3. adaprive budgeting        - share_budget=False and min_sample_size=None and naive=False\n",
    "# 4. capped adaptive budgeting - share_budget=False and min_sample_size=0.1  and naive=False\n",
    "# 5. gloal budgeting           - share_budget=True  and min_sample_size=0.1  and naive=False\n",
    "\n",
    "# experiments:\n",
    "# A) mean coverage as function of budget per sample - TODO: how to measure?\n",
    "# B) mean samples vs budget per sample (total num of samples generated)\n",
    "# C) lpb vs budget per sample (average LPB value)"
   ]
  },
  {
   "cell_type": "code",
   "execution_count": 2,
   "id": "b0a5efba",
   "metadata": {},
   "outputs": [],
   "source": [
    "import pytorch_lightning as pl\n",
    "import torch\n",
    "import numpy as np\n",
    "from torch.utils.data import DataLoader  # Import DataLoader\n",
    "from src.failure_model import ToxicClassifier\n",
    "from src.datasets import PromptOnlyDataset, PropDataset\n",
    "import torch._dynamo\n",
    "\n",
    "torch._dynamo.config.suppress_errors = True\n",
    "\n",
    "try:\n",
    "    torch.multiprocessing.set_start_method(\"spawn\")\n",
    "except RuntimeError:\n",
    "    pass"
   ]
  },
  {
   "cell_type": "code",
   "execution_count": 3,
   "id": "2a73be95",
   "metadata": {},
   "outputs": [],
   "source": [
    "# load model and data\n",
    "\n",
    "ds_cal = PromptOnlyDataset(\"data/rtp_500/split_1_0.5_0.1_0.2_0.2/cal.pkl\")\n",
    "ds_test = PromptOnlyDataset(\"data/rtp_500/split_1_0.5_0.1_0.2_0.2/test.pkl\")\n",
    "dl_test = DataLoader(ds_test, batch_size=1500, shuffle=False)\n",
    "\n",
    "model = ToxicClassifier.load_from_checkpoint(\"saved/Jigsaw_BERT/lightning_logs/version_1/checkpoints/epoch=4-step=970.ckpt\")\n",
    "_ = model.eval()"
   ]
  },
  {
   "cell_type": "code",
   "execution_count": 4,
   "id": "880b5748",
   "metadata": {},
   "outputs": [
    {
     "name": "stdout",
     "output_type": "stream",
     "text": [
      "Creating random subset...\n",
      "Original size: 19888\n",
      "Subset size: 4972\n"
     ]
    }
   ],
   "source": [
    "# create calibration subset (optional)\n",
    "import random\n",
    "\n",
    "print(\"Creating random subset...\")\n",
    "print(\"Original size:\", len(ds_cal.data))\n",
    "\n",
    "k = len(ds_cal.data) // 4 \n",
    "idx = random.sample(range(len(ds_cal.data)), k)\n",
    "ds_cal.data = [ds_cal.data[i] for i in idx]\n",
    "\n",
    "print(\"Subset size:\", len(ds_cal.data))"
   ]
  },
  {
   "cell_type": "code",
   "execution_count": 5,
   "id": "13ecce20",
   "metadata": {},
   "outputs": [],
   "source": [
    "from src import utils\n",
    "\n",
    "# Create the parameter dictionary for the rating backend.\n",
    "RATER_PARAMS = {\n",
    "    \"model_type\": \"original\",\n",
    "    \"amp\": True,\n",
    "}\n",
    "\n",
    "# Get the Hugging Face key.\n",
    "HF_KEY = utils.api_key_from_file(\"HF_KEY.txt\")\n",
    "\n",
    "# Create the parameter dictionary for the generation backend.\n",
    "GENERATOR_PARAMS = {\n",
    "    \"model_name\": \"meta-llama/Llama-3.2-1B\",\n",
    "    \"hub_token\": HF_KEY,\n",
    "    \"max_input_tokens\": 40,\n",
    "    \"max_output_tokens\": 30,\n",
    "    \"torch_dtype\": torch.bfloat16,\n",
    "}"
   ]
  },
  {
   "cell_type": "code",
   "execution_count": 6,
   "id": "f5bc0eb8",
   "metadata": {},
   "outputs": [],
   "source": [
    "# EXPERIMENT CONFIGS\n",
    "\n",
    "target_taus = torch.tensor([0.1])\n",
    "TAUS_RANGE = torch.tensor(np.logspace(-8, -0.33, 500))\n",
    "target_tau_idx = torch.argmin(torch.abs(TAUS_RANGE - target_taus))\n",
    "\n",
    "model.set_taus(TAUS_RANGE)\n",
    "model.set_min_p_for_q_tau(1e-20)\n",
    "\n",
    "EXPERIMENTS = [\n",
    "    # (\"Fixed Budgeting\", None, False, True),\n",
    "    # (\"Adaptive Budgeting\", None, False, False),\n",
    "    # (\"Capped Adaptive Budgeting\", 0.1, False, False),\n",
    "    # (\"Global Budgeting\", 0.1, True, False),\n",
    "    # (\"Global Budgeting Low\", 0.01, True, False),\n",
    "    # (\"Global Budgeting High\", 1.0, True, False),\n",
    "    (\"Global Budgeting Medium\", 0.5, True, False),\n",
    "]\n",
    "\n",
    "NUM_RUNS = 1\n",
    "\n",
    "# BUDGET_RANGE = torch.logspace(start=1, end=3, steps=10, base=10).int().unique().tolist()\n",
    "BUDGET_RANGE = [599]"
   ]
  },
  {
   "cell_type": "code",
   "execution_count": 7,
   "id": "35b5300a",
   "metadata": {},
   "outputs": [],
   "source": [
    "import pandas as pd\n",
    "\n",
    "SAVE_PATH = \"results2.csv\"\n",
    "\n",
    "results_df = pd.DataFrame(\n",
    "    columns=[\n",
    "        \"experiment\",\n",
    "        \"budget\",\n",
    "        \"run_num\",\n",
    "        \"tau_hat\",\n",
    "        \"max_est\",\n",
    "        \"calib_tau_hat_miscoverage\",\n",
    "        \"calib_tau_target_miscoverage\",\n",
    "        \"calib_mean_generated_samples\",\n",
    "        \"calib_mean_c_value\",\n",
    "        \"test_tau_hat_lpb\",\n",
    "        \"test_tau_target_lpb\",\n",
    "        \"time_delta\",\n",
    "    ]\n",
    ")\n",
    "\n",
    "\n",
    "def save_results(save_path, df):\n",
    "    df.to_csv(save_path, index=False)\n",
    "    print(f\"Results saved to {save_path}\")\n",
    "\n",
    "\n",
    "def load_results(save_path):\n",
    "    df = pd.read_csv(save_path, index_col=None)\n",
    "    print(f\"Results loaded from {save_path}\")\n",
    "    return df"
   ]
  },
  {
   "cell_type": "code",
   "execution_count": 8,
   "id": "b1d8fc51",
   "metadata": {},
   "outputs": [
    {
     "name": "stderr",
     "output_type": "stream",
     "text": [
      "/home/fre.gilad/miniforge3/envs/vllm4/lib/python3.11/site-packages/lightning_fabric/plugins/environments/slurm.py:204: The `srun` command is available on your system but is not used. HINT: If your intention is to run Lightning on SLURM, prepend your python command with `srun` like so: srun python /home/fre.gilad/miniforge3/envs/vllm4/lib/python3.11 ...\n",
      "You are using the plain ModelCheckpoint callback. Consider using LitModelCheckpoint which with seamless uploading to Model registry.\n",
      "GPU available: True (cuda), used: True\n",
      "TPU available: False, using: 0 TPU cores\n",
      "HPU available: False, using: 0 HPUs\n",
      "/home/fre.gilad/miniforge3/envs/vllm4/lib/python3.11/site-packages/pytorch_lightning/trainer/connectors/logger_connector/logger_connector.py:76: Starting from v1.9.0, `tensorboardX` has been removed as a dependency of the `pytorch_lightning` package, due to potential conflicts with other packages in the ML ecosystem. For this reason, `logger=True` will use `CSVLogger` as the default logger, unless the `tensorboard` or `tensorboardX` packages are found. Please `pip install lightning[extra]` or one of them to enable TensorBoard support by default\n",
      "You are using a CUDA device ('NVIDIA L40S') that has Tensor Cores. To properly utilize them, you should set `torch.set_float32_matmul_precision('medium' | 'high')` which will trade-off precision for performance. For more details, read https://pytorch.org/docs/stable/generated/torch.set_float32_matmul_precision.html#torch.set_float32_matmul_precision\n",
      "LOCAL_RANK: 0 - CUDA_VISIBLE_DEVICES: [0]\n",
      "/home/fre.gilad/miniforge3/envs/vllm4/lib/python3.11/site-packages/pytorch_lightning/trainer/connectors/data_connector.py:425: The 'predict_dataloader' does not have many workers which may be a bottleneck. Consider increasing the value of the `num_workers` argument` to `num_workers=7` in the `DataLoader` to improve performance.\n"
     ]
    },
    {
     "name": "stdout",
     "output_type": "stream",
     "text": [
      "--------------------------------------------------\n",
      "Running Global Budgeting Medium with budget 599 (run 1/1)\n",
      "--------------------------------------------------\n",
      "GPU 0 processing 4972 prompts\n",
      "INFO 04-30 01:47:31 [__init__.py:239] Automatically detected platform cuda.\n",
      "INFO: Overhead tokens:  100\n",
      "INFO: Empty input tokens:  1\n",
      "INFO: Total sequence tokens:  71\n",
      "INFO 04-30 01:47:49 [config.py:585] This model supports multiple tasks: {'reward', 'embed', 'score', 'generate', 'classify'}. Defaulting to 'generate'.\n",
      "INFO 04-30 01:47:49 [config.py:1697] Chunked prefill is enabled with max_num_batched_tokens=106600.\n"
     ]
    },
    {
     "name": "stderr",
     "output_type": "stream",
     "text": [
      "huggingface/tokenizers: The current process just got forked, after parallelism has already been used. Disabling parallelism to avoid deadlocks...\n",
      "To disable this warning, you can either:\n",
      "\t- Avoid using `tokenizers` before the fork if possible\n",
      "\t- Explicitly set the environment variable TOKENIZERS_PARALLELISM=(true | false)\n"
     ]
    },
    {
     "name": "stdout",
     "output_type": "stream",
     "text": [
      "INFO 04-30 01:47:52 [core.py:54] Initializing a V1 LLM engine (v0.8.2) with config: model='meta-llama/Llama-3.2-1B', speculative_config=None, tokenizer='meta-llama/Llama-3.2-1B', skip_tokenizer_init=False, tokenizer_mode=auto, revision=None, override_neuron_config=None, tokenizer_revision=None, trust_remote_code=False, dtype=torch.bfloat16, max_seq_len=171, download_dir=None, load_format=LoadFormat.AUTO, tensor_parallel_size=1, pipeline_parallel_size=1, disable_custom_all_reduce=False, quantization=None, enforce_eager=False, kv_cache_dtype=auto,  device_config=cuda, decoding_config=DecodingConfig(guided_decoding_backend='xgrammar', reasoning_backend=None), observability_config=ObservabilityConfig(show_hidden_metrics=False, otlp_traces_endpoint=None, collect_model_forward_time=False, collect_model_execute_time=False), seed=None, served_model_name=meta-llama/Llama-3.2-1B, num_scheduler_steps=1, multi_step_stream_outputs=True, enable_prefix_caching=True, chunked_prefill_enabled=True, use_async_output_proc=True, disable_mm_preprocessor_cache=False, mm_processor_kwargs=None, pooler_config=None, compilation_config={\"level\":3,\"custom_ops\":[\"none\"],\"splitting_ops\":[\"vllm.unified_attention\",\"vllm.unified_attention_with_output\"],\"use_inductor\":true,\"compile_sizes\":[],\"use_cudagraph\":true,\"cudagraph_num_of_warmups\":1,\"cudagraph_capture_sizes\":[512,504,496,488,480,472,464,456,448,440,432,424,416,408,400,392,384,376,368,360,352,344,336,328,320,312,304,296,288,280,272,264,256,248,240,232,224,216,208,200,192,184,176,168,160,152,144,136,128,120,112,104,96,88,80,72,64,56,48,40,32,24,16,8,4,2,1],\"max_capture_size\":512}\n",
      "WARNING 04-30 01:47:53 [utils.py:2321] Methods determine_num_available_blocks,device_config,get_cache_block_size_bytes,initialize_cache not implemented in <vllm.v1.worker.gpu_worker.Worker object at 0x7fd2c83c1750>\n",
      "INFO 04-30 01:47:53 [parallel_state.py:954] rank 0 in world size 1 is assigned as DP rank 0, PP rank 0, TP rank 0\n",
      "INFO 04-30 01:47:53 [cuda.py:220] Using Flash Attention backend on V1 engine.\n",
      "INFO 04-30 01:47:53 [gpu_model_runner.py:1174] Starting to load model meta-llama/Llama-3.2-1B...\n",
      "WARNING 04-30 01:47:54 [topk_topp_sampler.py:63] FlashInfer is not available. Falling back to the PyTorch-native implementation of top-p & top-k sampling. For the best performance, please install FlashInfer.\n",
      "INFO 04-30 01:47:54 [weight_utils.py:265] Using model weights format ['*.safetensors']\n",
      "INFO 04-30 01:47:54 [weight_utils.py:315] No model.safetensors.index.json found in remote.\n"
     ]
    },
    {
     "name": "stderr",
     "output_type": "stream",
     "text": [
      "Loading safetensors checkpoint shards:   0% Completed | 0/1 [00:00<?, ?it/s]\n",
      "Loading safetensors checkpoint shards: 100% Completed | 1/1 [00:00<00:00,  1.70it/s]\n",
      "Loading safetensors checkpoint shards: 100% Completed | 1/1 [00:00<00:00,  1.70it/s]\n",
      "\n"
     ]
    },
    {
     "name": "stdout",
     "output_type": "stream",
     "text": [
      "INFO 04-30 01:47:55 [loader.py:447] Loading weights took 0.71 seconds\n",
      "INFO 04-30 01:47:55 [gpu_model_runner.py:1186] Model loading took 2.3185 GB and 2.118487 seconds\n",
      "INFO 04-30 01:48:02 [backends.py:415] Using cache directory: /home/fre.gilad/.cache/vllm/torch_compile_cache/8ea18a64bd/rank_0_0 for vLLM's torch.compile\n",
      "INFO 04-30 01:48:02 [backends.py:425] Dynamo bytecode transform time: 6.87 s\n",
      "INFO 04-30 01:48:03 [backends.py:115] Directly load the compiled graph for shape None from the cache\n",
      "INFO 04-30 01:48:08 [monitor.py:33] torch.compile takes 6.87 s in total\n",
      "INFO 04-30 01:48:10 [kv_cache_utils.py:566] GPU KV cache size: 432,448 tokens\n",
      "INFO 04-30 01:48:10 [kv_cache_utils.py:569] Maximum concurrency for 171 tokens per request: 2528.94x\n",
      "INFO 04-30 01:48:24 [gpu_model_runner.py:1534] Graph capturing finished in 14 secs, took 0.90 GiB\n",
      "INFO 04-30 01:48:24 [core.py:151] init engine (profile, create kv cache, warmup model) took 28.23 seconds\n"
     ]
    },
    {
     "name": "stderr",
     "output_type": "stream",
     "text": [
      "Processing Prompts: 100%|██████████| 4972/4972 [1:58:09<00:00,  1.43s/it, batch_num=2120, batch_time=0.20, time_remaining=0:00:00]             \n",
      "LOCAL_RANK: 0 - CUDA_VISIBLE_DEVICES: [0]\n"
     ]
    },
    {
     "name": "stdout",
     "output_type": "stream",
     "text": [
      "Results saved to results2.csv\n"
     ]
    },
    {
     "name": "stderr",
     "output_type": "stream",
     "text": [
      "/tmp/ipykernel_2164154/632552347.py:85: FutureWarning: The behavior of DataFrame concatenation with empty or all-NA entries is deprecated. In a future version, this will no longer exclude empty or all-NA columns when determining the result dtypes. To retain the old behavior, exclude the relevant entries before the concat operation.\n",
      "  results_df = pd.concat([results_df, pd.DataFrame([result_dict])], ignore_index=True)\n"
     ]
    }
   ],
   "source": [
    "import pandas as pd\n",
    "from src.conformal import conformalize\n",
    "import time\n",
    "\n",
    "for run_num in range(NUM_RUNS):\n",
    "\n",
    "    for exp_type in EXPERIMENTS:\n",
    "\n",
    "        trainer = pl.Trainer(enable_progress_bar=False)\n",
    "        name, min_sample_size, share_budget, naive = exp_type\n",
    "\n",
    "        for budget in BUDGET_RANGE:\n",
    "\n",
    "            print(\"-\" * 50)\n",
    "            print(f\"Running {name} with budget {budget} (run {run_num + 1}/{NUM_RUNS})\")\n",
    "            print(\"-\" * 50)\n",
    "            \n",
    "            start_time = time.time()\n",
    "\n",
    "            # Call the conformalize function with the specified parameters.\n",
    "            result_tuple = conformalize(\n",
    "                trainer=trainer,\n",
    "                model=model,\n",
    "                target_taus=target_taus,\n",
    "                canidate_taus=TAUS_RANGE,\n",
    "                X=ds_cal,\n",
    "                generator_params=GENERATOR_PARAMS,\n",
    "                rater_params=RATER_PARAMS,\n",
    "                budget_per_sample=budget,\n",
    "                share_budget=share_budget,\n",
    "                min_sample_size=min_sample_size,\n",
    "                naive=naive,\n",
    "                text_prep_func=\"sentence_completion\",\n",
    "                multi_gpu=True,\n",
    "                plot=False,\n",
    "                return_extra=True,\n",
    "                batch_size=1500,\n",
    "            )\n",
    "\n",
    "            (\n",
    "                tau_hat,  # chosen tau for the target miscoverage\n",
    "                max_est,  # maximum quantile prediction\n",
    "                q_hats,  # quantile predictions for the chosen tau\n",
    "                T_tilde,  # sampled survival time for all samples\n",
    "                C,  # censoring time indicator\n",
    "                quantile_est,  # predicted quantile estimates for all taus\n",
    "                prior_quantile_est,  # each output is sampled at most prior_quantile_est times\n",
    "                C_probs,  # sampling probability of each sample\n",
    "                weights,  # weights used for the weighted miscoverage\n",
    "                miscoverage,  # miscoverage rate for each tau\n",
    "            ) = result_tuple\n",
    "\n",
    "            time_delta = time.time() - start_time\n",
    "\n",
    "            tau_hat_idx = np.argmin(torch.abs(TAUS_RANGE - tau_hat)).item()\n",
    "            tau_hat_miscoverage = miscoverage[tau_hat_idx].item()\n",
    "            tau_target_miscoverage = miscoverage[target_tau_idx].item()\n",
    "\n",
    "            # compute total number of generated samples\n",
    "            mean_generated_samples = T_tilde.mean().item()\n",
    "            mean_c_value = C.mean().item()\n",
    "\n",
    "            # compute LPB\n",
    "            test_pred_raw = trainer.predict(model, dataloaders=dl_test)\n",
    "            test_quantile_est = np.vstack([p[\"tau\"].T for p in test_pred_raw])\n",
    "            tau_hat_lpb = test_quantile_est[:, tau_hat_idx].mean().item()\n",
    "            tau_target_lpb = test_quantile_est[:, target_tau_idx].mean().item()\n",
    "\n",
    "            # add results to dataframe\n",
    "            result_dict = {\n",
    "                \"experiment\": name,\n",
    "                \"budget\": budget,\n",
    "                \"run_num\": run_num,\n",
    "                \"tau_hat\": tau_hat,\n",
    "                \"max_est\": max_est,\n",
    "                \"calib_tau_hat_miscoverage\": tau_hat_miscoverage,\n",
    "                \"calib_tau_target_miscoverage\": tau_target_miscoverage,\n",
    "                \"calib_mean_generated_samples\": mean_generated_samples,\n",
    "                \"calib_mean_c_value\": mean_c_value,\n",
    "                \"test_tau_hat_lpb\": tau_hat_lpb,\n",
    "                \"test_tau_target_lpb\": tau_target_lpb,\n",
    "                \"time_delta\": time_delta,\n",
    "            }\n",
    "\n",
    "            results_df = pd.concat([results_df, pd.DataFrame([result_dict])], ignore_index=True)\n",
    "\n",
    "            save_results(SAVE_PATH, results_df)"
   ]
  }
 ],
 "metadata": {
  "kernelspec": {
   "display_name": "vllm4",
   "language": "python",
   "name": "python3"
  },
  "language_info": {
   "codemirror_mode": {
    "name": "ipython",
    "version": 3
   },
   "file_extension": ".py",
   "mimetype": "text/x-python",
   "name": "python",
   "nbconvert_exporter": "python",
   "pygments_lexer": "ipython3",
   "version": "3.11.11"
  }
 },
 "nbformat": 4,
 "nbformat_minor": 5
}
