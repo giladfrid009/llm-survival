{
    "cells": [
        {
            "cell_type": "code",
            "execution_count": null,
            "metadata": {},
            "outputs": [],
            "source": [
                "import pandas as pd\n",
                "\n",
                "df = pd.read_json(\"data/prompts.jsonl\", lines=True)\n",
                "\n",
                "input_dicts = df[\"prompt\"].values.flatten().tolist()\n",
                "\n",
                "inputs = [d[\"text\"] for d in input_dicts]"
            ]
        },
        {
            "cell_type": "code",
            "execution_count": null,
            "metadata": {},
            "outputs": [],
            "source": [
                "inputs"
            ]
        },
        {
            "cell_type": "code",
            "execution_count": null,
            "metadata": {},
            "outputs": [],
            "source": [
                "# from src.perspective.backend import PerspectiveBackend\n",
                "# from src.perspective.utils import api_key_from_env, api_key_from_file\n",
                "\n",
                "# api_key = api_key_from_file(\"PERSPECTIVE_API_KEY.txt\")\n",
                "# backend = PerspectiveBackend(api_key=api_key, rate_limit=1)"
            ]
        },
        {
            "cell_type": "code",
            "execution_count": null,
            "metadata": {},
            "outputs": [],
            "source": [
                "from src.detoxify.backend import DetoxifyBackend\n",
                "\n",
                "backend = DetoxifyBackend(model_type=\"original\", amp=False)"
            ]
        },
        {
            "cell_type": "code",
            "execution_count": null,
            "metadata": {},
            "outputs": [],
            "source": [
                "from src.rating import *\n",
                "\n",
                "rating_runner = RatingRunner(backend)\n",
                "results = rating_runner.rate_stram(inputs[:200], batch_size=100)"
            ]
        },
        {
            "cell_type": "code",
            "execution_count": null,
            "metadata": {},
            "outputs": [],
            "source": [
                "len(list(results))"
            ]
        }
    ],
    "metadata": {
        "kernelspec": {
            "display_name": "llm-survival",
            "language": "python",
            "name": "python3"
        },
        "language_info": {
            "codemirror_mode": {
                "name": "ipython",
                "version": 3
            },
            "file_extension": ".py",
            "mimetype": "text/x-python",
            "name": "python",
            "nbconvert_exporter": "python",
            "pygments_lexer": "ipython3",
            "version": "3.10.16"
        }
    },
    "nbformat": 4,
    "nbformat_minor": 2
}
