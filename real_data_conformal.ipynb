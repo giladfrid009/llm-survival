{
 "cells": [
  {
   "cell_type": "code",
   "execution_count": 1,
   "metadata": {},
   "outputs": [
    {
     "name": "stderr",
     "output_type": "stream",
     "text": [
      "Some weights of ModernBertForSequenceClassification were not initialized from the model checkpoint at answerdotai/ModernBERT-base and are newly initialized: ['classifier.bias', 'classifier.weight']\n",
      "You should probably TRAIN this model on a down-stream task to be able to use it for predictions and inference.\n",
      "/home/dahen/miniconda3/envs/llm-survival/lib/python3.13/site-packages/lightning_fabric/plugins/environments/slurm.py:204: The `srun` command is available on your system but is not used. HINT: If your intention is to run Lightning on SLURM, prepend your python command with `srun` like so: srun python /home/dahen/miniconda3/envs/llm-survival/lib/python3 ...\n",
      "GPU available: True (cuda), used: True\n",
      "TPU available: False, using: 0 TPU cores\n",
      "HPU available: False, using: 0 HPUs\n",
      "/home/dahen/miniconda3/envs/llm-survival/lib/python3.13/site-packages/pytorch_lightning/trainer/connectors/logger_connector/logger_connector.py:76: Starting from v1.9.0, `tensorboardX` has been removed as a dependency of the `pytorch_lightning` package, due to potential conflicts with other packages in the ML ecosystem. For this reason, `logger=True` will use `CSVLogger` as the default logger, unless the `tensorboard` or `tensorboardX` packages are found. Please `pip install lightning[extra]` or one of them to enable TensorBoard support by default\n",
      "You are using a CUDA device ('NVIDIA RTX A6000') that has Tensor Cores. To properly utilize them, you should set `torch.set_float32_matmul_precision('medium' | 'high')` which will trade-off precision for performance. For more details, read https://pytorch.org/docs/stable/generated/torch.set_float32_matmul_precision.html#torch.set_float32_matmul_precision\n",
      "LOCAL_RANK: 0 - CUDA_VISIBLE_DEVICES: [0]\n"
     ]
    },
    {
     "data": {
      "application/vnd.jupyter.widget-view+json": {
       "model_id": "1c8bf2daebbe4e8fb1f571aad0927a21",
       "version_major": 2,
       "version_minor": 0
      },
      "text/plain": [
       "Predicting: |          | 0/? [00:00<?, ?it/s]"
      ]
     },
     "metadata": {},
     "output_type": "display_data"
    }
   ],
   "source": [
    "# Load the lightning model from checkpoint\n",
    "\n",
    "import pytorch_lightning as pl\n",
    "import torch\n",
    "import numpy as np\n",
    "from src.failure_model import ToxicClassifier\n",
    "from src.datasets import PromptOnlyDataset, PropDataset\n",
    "\n",
    "cal_prompts = PromptOnlyDataset(\"data/rtp/split_1_0.5_0.1_0.2_0.2/cal.pkl\")\n",
    "\n",
    "cal_prompts.data = cal_prompts.data[-100:]\n",
    "\n",
    "# Examine the model weights in the checkpoint before loading\n",
    "checkpoint = torch.load(\"saved/Prop_RTP_ModernBERT/lightning_logs/version_26/checkpoints/epoch=4-step=495.ckpt\")\n",
    "\n",
    "model = ToxicClassifier.load_from_checkpoint(\"saved/Prop_RTP_ModernBERT/lightning_logs/version_26/checkpoints/epoch=4-step=495.ckpt\")\n",
    "\n",
    "taus = torch.tensor(np.logspace(-3, 0, 20))\n",
    "# Get the index closest to 0.1\n",
    "idx = (taus - 0.1).abs().argmin()\n",
    "model.set_taus(taus)\n",
    "model.eval()\n",
    "\n",
    "trainer = pl.Trainer()\n",
    "pred = trainer.predict(model, cal_prompts)"
   ]
  },
  {
   "cell_type": "code",
   "execution_count": 2,
   "metadata": {},
   "outputs": [
    {
     "name": "stdout",
     "output_type": "stream",
     "text": [
      "[{'proba': tensor([0.0050]), 'tau': tensor([  1.,   1.,   1.,   1.,   1.,   2.,   2.,   3.,   4.,   6.,   8.,  12.,\n",
      "         17.,  24.,  36.,  54.,  82., 132., 238.,  inf], dtype=torch.float64)}, {'proba': tensor([1.3546e-05]), 'tau': tensor([7.4000e+01, 1.0700e+02, 1.5300e+02, 2.2100e+02, 3.1700e+02, 4.5700e+02,\n",
      "        6.5700e+02, 9.4700e+02, 1.3660e+03, 1.9730e+03, 2.8550e+03, 4.1420e+03,\n",
      "        6.0340e+03, 8.8430e+03, 1.3081e+04, 1.9638e+04, 3.0226e+04, 4.8743e+04,\n",
      "        8.7706e+04,        inf], dtype=torch.float64)}, {'proba': tensor([0.1876]), 'tau': tensor([1., 1., 1., 1., 1., 1., 1., 1., 1., 1., 1., 1., 1., 1., 1., 2., 2., 4.,\n",
      "        6., inf], dtype=torch.float64)}, {'proba': tensor([0.0033]), 'tau': tensor([  1.,   1.,   1.,   1.,   2.,   2.,   3.,   4.,   6.,   9.,  12.,  17.,\n",
      "         25.,  37.,  54.,  81., 124., 200., 359.,  inf], dtype=torch.float64)}, {'proba': tensor([9.8481e-05]), 'tau': tensor([1.1000e+01, 1.5000e+01, 2.2000e+01, 3.1000e+01, 4.4000e+01, 6.3000e+01,\n",
      "        9.1000e+01, 1.3100e+02, 1.8800e+02, 2.7200e+02, 3.9300e+02, 5.7000e+02,\n",
      "        8.3000e+02, 1.2170e+03, 1.8000e+03, 2.7020e+03, 4.1580e+03, 6.7050e+03,\n",
      "        1.2064e+04,        inf], dtype=torch.float64)}, {'proba': tensor([0.0268]), 'tau': tensor([ 1.,  1.,  1.,  1.,  1.,  1.,  1.,  1.,  1.,  1.,  2.,  3.,  4.,  5.,\n",
      "         7., 10., 16., 25., 44., inf], dtype=torch.float64)}, {'proba': tensor([0.0012]), 'tau': tensor([  1.,   2.,   2.,   3.,   4.,   6.,   8.,  11.,  16.,  22.,  32.,  46.,\n",
      "         67.,  99., 146., 218., 336., 541., 973.,  inf], dtype=torch.float64)}, {'proba': tensor([0.0128]), 'tau': tensor([ 1.,  1.,  1.,  1.,  1.,  1.,  1.,  1.,  2.,  3.,  3.,  5.,  7., 10.,\n",
      "        14., 21., 32., 52., 92., inf], dtype=torch.float64)}, {'proba': tensor([0.0001]), 'tau': tensor([8.0000e+00, 1.1000e+01, 1.6000e+01, 2.3000e+01, 3.3000e+01, 4.7000e+01,\n",
      "        6.7000e+01, 9.7000e+01, 1.3900e+02, 2.0100e+02, 2.9100e+02, 4.2200e+02,\n",
      "        6.1400e+02, 9.0000e+02, 1.3310e+03, 1.9980e+03, 3.0750e+03, 4.9590e+03,\n",
      "        8.9220e+03,        inf], dtype=torch.float64)}, {'proba': tensor([0.0001]), 'tau': tensor([9.0000e+00, 1.3000e+01, 1.9000e+01, 2.7000e+01, 3.9000e+01, 5.5000e+01,\n",
      "        8.0000e+01, 1.1400e+02, 1.6500e+02, 2.3800e+02, 3.4400e+02, 4.9900e+02,\n",
      "        7.2700e+02, 1.0650e+03, 1.5750e+03, 2.3650e+03, 3.6400e+03, 5.8690e+03,\n",
      "        1.0560e+04,        inf], dtype=torch.float64)}, {'proba': tensor([0.0015]), 'tau': tensor([  1.,   1.,   2.,   3.,   3.,   5.,   7.,   9.,  13.,  19.,  27.,  39.,\n",
      "         57.,  83., 122., 183., 282., 455., 818.,  inf], dtype=torch.float64)}, {'proba': tensor([0.0318]), 'tau': tensor([ 1.,  1.,  1.,  1.,  1.,  1.,  1.,  1.,  1.,  1.,  2.,  2.,  3.,  4.,\n",
      "         6.,  9., 13., 21., 37., inf], dtype=torch.float64)}, {'proba': tensor([0.4830]), 'tau': tensor([1., 1., 1., 1., 1., 1., 1., 1., 1., 1., 1., 1., 1., 1., 1., 1., 1., 2.,\n",
      "        2., inf], dtype=torch.float64)}, {'proba': tensor([0.0012]), 'tau': tensor([  1.,   2.,   2.,   3.,   4.,   6.,   8.,  11.,  16.,  23.,  33.,  47.,\n",
      "         69., 101., 149., 223., 343., 552., 993.,  inf], dtype=torch.float64)}, {'proba': tensor([0.0628]), 'tau': tensor([ 1.,  1.,  1.,  1.,  1.,  1.,  1.,  1.,  1.,  1.,  1.,  1.,  2.,  2.,\n",
      "         3.,  5.,  7., 11., 19., inf], dtype=torch.float64)}, {'proba': tensor([0.0119]), 'tau': tensor([  1.,   1.,   1.,   1.,   1.,   1.,   1.,   2.,   2.,   3.,   4.,   5.,\n",
      "          7.,  11.,  15.,  23.,  35.,  56., 100.,  inf], dtype=torch.float64)}, {'proba': tensor([0.7398]), 'tau': tensor([1., 1., 1., 1., 1., 1., 1., 1., 1., 1., 1., 1., 1., 1., 1., 1., 1., 1.,\n",
      "        1., inf], dtype=torch.float64)}, {'proba': tensor([0.0988]), 'tau': tensor([ 1.,  1.,  1.,  1.,  1.,  1.,  1.,  1.,  1.,  1.,  1.,  1.,  1.,  2.,\n",
      "         2.,  3.,  4.,  7., 12., inf], dtype=torch.float64)}, {'proba': tensor([0.9855]), 'tau': tensor([1., 1., 1., 1., 1., 1., 1., 1., 1., 1., 1., 1., 1., 1., 1., 1., 1., 1.,\n",
      "        1., inf], dtype=torch.float64)}, {'proba': tensor([0.0060]), 'tau': tensor([  1.,   1.,   1.,   1.,   1.,   2.,   2.,   3.,   4.,   5.,   7.,  10.,\n",
      "         14.,  20.,  30.,  44.,  68., 109., 197.,  inf], dtype=torch.float64)}, {'proba': tensor([4.9872e-05]), 'tau': tensor([2.1000e+01, 2.9000e+01, 4.2000e+01, 6.0000e+01, 8.7000e+01, 1.2400e+02,\n",
      "        1.7900e+02, 2.5800e+02, 3.7100e+02, 5.3600e+02, 7.7600e+02, 1.1250e+03,\n",
      "        1.6390e+03, 2.4020e+03, 3.5530e+03, 5.3340e+03, 8.2100e+03, 1.3240e+04,\n",
      "        2.3822e+04,        inf], dtype=torch.float64)}, {'proba': tensor([0.0034]), 'tau': tensor([  1.,   1.,   1.,   1.,   2.,   2.,   3.,   4.,   6.,   8.,  12.,  17.,\n",
      "         25.,  36.,  53.,  79., 122., 196., 352.,  inf], dtype=torch.float64)}, {'proba': tensor([0.0043]), 'tau': tensor([  1.,   1.,   1.,   1.,   1.,   2.,   3.,   3.,   5.,   7.,   9.,  13.,\n",
      "         19.,  28.,  41.,  62.,  95., 152., 274.,  inf], dtype=torch.float64)}, {'proba': tensor([0.2599]), 'tau': tensor([1., 1., 1., 1., 1., 1., 1., 1., 1., 1., 1., 1., 1., 1., 1., 1., 2., 3.,\n",
      "        4., inf], dtype=torch.float64)}, {'proba': tensor([0.0039]), 'tau': tensor([  1.,   1.,   1.,   1.,   2.,   2.,   3.,   4.,   5.,   7.,  10.,  15.,\n",
      "         21.,  31.,  46.,  69., 105., 170., 305.,  inf], dtype=torch.float64)}, {'proba': tensor([0.0019]), 'tau': tensor([  1.,   1.,   2.,   2.,   3.,   4.,   5.,   7.,  10.,  15.,  21.,  31.,\n",
      "         45.,  65.,  96., 144., 221., 356., 640.,  inf], dtype=torch.float64)}, {'proba': tensor([0.0226]), 'tau': tensor([ 1.,  1.,  1.,  1.,  1.,  1.,  1.,  1.,  1.,  2.,  2.,  3.,  4.,  6.,\n",
      "         8., 12., 18., 29., 53., inf], dtype=torch.float64)}, {'proba': tensor([0.0331]), 'tau': tensor([ 1.,  1.,  1.,  1.,  1.,  1.,  1.,  1.,  1.,  1.,  2.,  2.,  3.,  4.,\n",
      "         6.,  8., 13., 20., 36., inf], dtype=torch.float64)}, {'proba': tensor([0.0026]), 'tau': tensor([  1.,   1.,   1.,   2.,   2.,   3.,   4.,   5.,   8.,  11.,  16.,  22.,\n",
      "         32.,  47.,  69., 104., 159., 257., 462.,  inf], dtype=torch.float64)}, {'proba': tensor([0.0005]), 'tau': tensor([   3.,    4.,    5.,    7.,   10.,   14.,   19.,   28.,   40.,   57.,\n",
      "          83.,  120.,  174.,  255.,  377.,  566.,  870., 1403., 2524.,   inf],\n",
      "       dtype=torch.float64)}, {'proba': tensor([4.1173e-05]), 'tau': tensor([2.5000e+01, 3.5000e+01, 5.1000e+01, 7.3000e+01, 1.0500e+02, 1.5100e+02,\n",
      "        2.1700e+02, 3.1200e+02, 4.5000e+02, 6.4900e+02, 9.4000e+02, 1.3630e+03,\n",
      "        1.9850e+03, 2.9100e+03, 4.3040e+03, 6.4610e+03, 9.9450e+03, 1.6037e+04,\n",
      "        2.8856e+04,        inf], dtype=torch.float64)}, {'proba': tensor([0.4991]), 'tau': tensor([1., 1., 1., 1., 1., 1., 1., 1., 1., 1., 1., 1., 1., 1., 1., 1., 1., 1.,\n",
      "        2., inf], dtype=torch.float64)}, {'proba': tensor([0.0554]), 'tau': tensor([ 1.,  1.,  1.,  1.,  1.,  1.,  1.,  1.,  1.,  1.,  1.,  1.,  2.,  3.,\n",
      "         4.,  5.,  8., 12., 21., inf], dtype=torch.float64)}, {'proba': tensor([0.0338]), 'tau': tensor([ 1.,  1.,  1.,  1.,  1.,  1.,  1.,  1.,  1.,  1.,  2.,  2.,  3.,  4.,\n",
      "         6.,  8., 12., 20., 35., inf], dtype=torch.float64)}, {'proba': tensor([0.0178]), 'tau': tensor([ 1.,  1.,  1.,  1.,  1.,  1.,  1.,  1.,  2.,  2.,  3.,  4.,  5.,  7.,\n",
      "        10., 15., 23., 37., 67., inf], dtype=torch.float64)}, {'proba': tensor([0.0005]), 'tau': tensor([2.0000e+00, 3.0000e+00, 4.0000e+00, 6.0000e+00, 9.0000e+00, 1.2000e+01,\n",
      "        1.7000e+01, 2.4000e+01, 3.5000e+01, 5.0000e+01, 7.3000e+01, 1.0500e+02,\n",
      "        1.5300e+02, 2.2400e+02, 3.3100e+02, 4.9700e+02, 7.6500e+02, 1.2340e+03,\n",
      "        2.2190e+03,        inf], dtype=torch.float64)}, {'proba': tensor([0.0010]), 'tau': tensor([   2.,    2.,    3.,    4.,    5.,    7.,   10.,   14.,   19.,   28.,\n",
      "          40.,   58.,   84.,  123.,  182.,  273.,  421.,  678., 1220.,   inf],\n",
      "       dtype=torch.float64)}, {'proba': tensor([4.2834e-05]), 'tau': tensor([2.4000e+01, 3.4000e+01, 4.9000e+01, 7.0000e+01, 1.0100e+02, 1.4500e+02,\n",
      "        2.0800e+02, 3.0000e+02, 4.3200e+02, 6.2400e+02, 9.0300e+02, 1.3100e+03,\n",
      "        1.9080e+03, 2.7970e+03, 4.1370e+03, 6.2110e+03, 9.5590e+03, 1.5415e+04,\n",
      "        2.7736e+04,        inf], dtype=torch.float64)}, {'proba': tensor([0.0002]), 'tau': tensor([5.0000e+00, 8.0000e+00, 1.1000e+01, 1.5000e+01, 2.2000e+01, 3.1000e+01,\n",
      "        4.4000e+01, 6.4000e+01, 9.2000e+01, 1.3200e+02, 1.9100e+02, 2.7800e+02,\n",
      "        4.0400e+02, 5.9200e+02, 8.7600e+02, 1.3150e+03, 2.0230e+03, 3.2620e+03,\n",
      "        5.8690e+03,        inf], dtype=torch.float64)}, {'proba': tensor([0.0354]), 'tau': tensor([ 1.,  1.,  1.,  1.,  1.,  1.,  1.,  1.,  1.,  1.,  2.,  2.,  3.,  4.,\n",
      "         5.,  8., 12., 19., 33., inf], dtype=torch.float64)}, {'proba': tensor([0.0038]), 'tau': tensor([  1.,   1.,   1.,   1.,   2.,   2.,   3.,   4.,   5.,   8.,  11.,  15.,\n",
      "         22.,  32.,  47.,  70., 108., 174., 312.,  inf], dtype=torch.float64)}, {'proba': tensor([0.0122]), 'tau': tensor([ 1.,  1.,  1.,  1.,  1.,  1.,  1.,  2.,  2.,  3.,  4.,  5.,  7., 10.,\n",
      "        15., 22., 34., 54., 97., inf], dtype=torch.float64)}, {'proba': tensor([0.1315]), 'tau': tensor([1., 1., 1., 1., 1., 1., 1., 1., 1., 1., 1., 1., 1., 1., 2., 2., 3., 5.,\n",
      "        9., inf], dtype=torch.float64)}, {'proba': tensor([0.0127]), 'tau': tensor([ 1.,  1.,  1.,  1.,  1.,  1.,  1.,  2.,  2.,  3.,  4.,  5.,  7., 10.,\n",
      "        14., 21., 33., 52., 94., inf], dtype=torch.float64)}, {'proba': tensor([0.0001]), 'tau': tensor([9.0000e+00, 1.3000e+01, 1.8000e+01, 2.6000e+01, 3.7000e+01, 5.3000e+01,\n",
      "        7.6000e+01, 1.0900e+02, 1.5700e+02, 2.2600e+02, 3.2700e+02, 4.7400e+02,\n",
      "        6.9000e+02, 1.0120e+03, 1.4960e+03, 2.2460e+03, 3.4570e+03, 5.5750e+03,\n",
      "        1.0030e+04,        inf], dtype=torch.float64)}, {'proba': tensor([0.0022]), 'tau': tensor([  1.,   1.,   1.,   2.,   2.,   3.,   5.,   6.,   9.,  13.,  18.,  26.,\n",
      "         38.,  56.,  82., 123., 189., 305., 548.,  inf], dtype=torch.float64)}, {'proba': tensor([0.9832]), 'tau': tensor([1., 1., 1., 1., 1., 1., 1., 1., 1., 1., 1., 1., 1., 1., 1., 1., 1., 1.,\n",
      "        1., inf], dtype=torch.float64)}, {'proba': tensor([0.0067]), 'tau': tensor([  1.,   1.,   1.,   1.,   1.,   1.,   2.,   2.,   3.,   4.,   6.,   9.,\n",
      "         13.,  18.,  27.,  40.,  62.,  99., 178.,  inf], dtype=torch.float64)}, {'proba': tensor([0.0003]), 'tau': tensor([4.0000e+00, 6.0000e+00, 8.0000e+00, 1.2000e+01, 1.6000e+01, 2.3000e+01,\n",
      "        3.4000e+01, 4.8000e+01, 6.9000e+01, 1.0000e+02, 1.4400e+02, 2.0900e+02,\n",
      "        3.0400e+02, 4.4600e+02, 6.6000e+02, 9.9000e+02, 1.5230e+03, 2.4560e+03,\n",
      "        4.4190e+03,        inf], dtype=torch.float64)}, {'proba': tensor([0.0006]), 'tau': tensor([   2.,    3.,    4.,    5.,    7.,   10.,   14.,   21.,   30.,   42.,\n",
      "          61.,   89.,  129.,  189.,  279.,  418.,  644., 1038., 1867.,   inf],\n",
      "       dtype=torch.float64)}, {'proba': tensor([0.0023]), 'tau': tensor([  1.,   1.,   1.,   2.,   2.,   3.,   4.,   6.,   8.,  12.,  17.,  24.,\n",
      "         35.,  51.,  76., 114., 175., 282., 506.,  inf], dtype=torch.float64)}, {'proba': tensor([0.0060]), 'tau': tensor([  1.,   1.,   1.,   1.,   1.,   2.,   2.,   3.,   4.,   5.,   7.,  10.,\n",
      "         14.,  20.,  30.,  45.,  69., 110., 198.,  inf], dtype=torch.float64)}, {'proba': tensor([0.0005]), 'tau': tensor([   3.,    4.,    5.,    7.,   10.,   14.,   20.,   29.,   41.,   59.,\n",
      "          86.,  124.,  180.,  264.,  391.,  586.,  902., 1454., 2617.,   inf],\n",
      "       dtype=torch.float64)}, {'proba': tensor([0.0005]), 'tau': tensor([   3.,    4.,    5.,    7.,   10.,   14.,   20.,   29.,   41.,   59.,\n",
      "          85.,  123.,  180.,  263.,  389.,  583.,  897., 1447., 2603.,   inf],\n",
      "       dtype=torch.float64)}, {'proba': tensor([4.1070e-05]), 'tau': tensor([2.5000e+01, 3.6000e+01, 5.1000e+01, 7.3000e+01, 1.0500e+02, 1.5100e+02,\n",
      "        2.1700e+02, 3.1300e+02, 4.5100e+02, 6.5100e+02, 9.4200e+02, 1.3660e+03,\n",
      "        1.9900e+03, 2.9170e+03, 4.3150e+03, 6.4780e+03, 9.9700e+03, 1.6077e+04,\n",
      "        2.8928e+04,        inf], dtype=torch.float64)}, {'proba': tensor([0.0075]), 'tau': tensor([  1.,   1.,   1.,   1.,   1.,   1.,   2.,   2.,   3.,   4.,   6.,   8.,\n",
      "         11.,  16.,  24.,  36.,  55.,  88., 158.,  inf], dtype=torch.float64)}, {'proba': tensor([0.0073]), 'tau': tensor([  1.,   1.,   1.,   1.,   1.,   1.,   2.,   2.,   3.,   4.,   6.,   8.,\n",
      "         12.,  17.,  25.,  37.,  57.,  91., 164.,  inf], dtype=torch.float64)}, {'proba': tensor([0.0002]), 'tau': tensor([5.0000e+00, 8.0000e+00, 1.1000e+01, 1.5000e+01, 2.2000e+01, 3.1000e+01,\n",
      "        4.4000e+01, 6.3000e+01, 9.1000e+01, 1.3100e+02, 1.9000e+02, 2.7500e+02,\n",
      "        4.0100e+02, 5.8800e+02, 8.6900e+02, 1.3040e+03, 2.0080e+03, 3.2370e+03,\n",
      "        5.8240e+03,        inf], dtype=torch.float64)}, {'proba': tensor([0.0125]), 'tau': tensor([ 1.,  1.,  1.,  1.,  1.,  1.,  1.,  2.,  2.,  3.,  4.,  5.,  7., 10.,\n",
      "        15., 22., 33., 53., 95., inf], dtype=torch.float64)}, {'proba': tensor([0.0012]), 'tau': tensor([  1.,   2.,   2.,   3.,   4.,   6.,   8.,  11.,  16.,  23.,  33.,  47.,\n",
      "         68., 100., 148., 221., 341., 549., 987.,  inf], dtype=torch.float64)}, {'proba': tensor([0.0351]), 'tau': tensor([ 1.,  1.,  1.,  1.,  1.,  1.,  1.,  1.,  1.,  1.,  2.,  2.,  3.,  4.,\n",
      "         5.,  8., 12., 19., 34., inf], dtype=torch.float64)}, {'proba': tensor([0.0374]), 'tau': tensor([ 1.,  1.,  1.,  1.,  1.,  1.,  1.,  1.,  1.,  1.,  2.,  2.,  3.,  4.,\n",
      "         5.,  7., 11., 18., 32., inf], dtype=torch.float64)}, {'proba': tensor([0.0003]), 'tau': tensor([4.0000e+00, 6.0000e+00, 8.0000e+00, 1.2000e+01, 1.6000e+01, 2.3000e+01,\n",
      "        3.4000e+01, 4.8000e+01, 6.9000e+01, 1.0000e+02, 1.4400e+02, 2.0900e+02,\n",
      "        3.0400e+02, 4.4500e+02, 6.5900e+02, 9.8900e+02, 1.5210e+03, 2.4530e+03,\n",
      "        4.4140e+03,        inf], dtype=torch.float64)}, {'proba': tensor([0.0021]), 'tau': tensor([  1.,   1.,   1.,   2.,   3.,   3.,   5.,   7.,   9.,  13.,  19.,  27.,\n",
      "         39.,  58.,  85., 127., 195., 315., 566.,  inf], dtype=torch.float64)}, {'proba': tensor([7.3932e-05]), 'tau': tensor([1.4000e+01, 2.0000e+01, 2.9000e+01, 4.1000e+01, 5.9000e+01, 8.4000e+01,\n",
      "        1.2100e+02, 1.7400e+02, 2.5100e+02, 3.6200e+02, 5.2300e+02, 7.5900e+02,\n",
      "        1.1060e+03, 1.6210e+03, 2.3970e+03, 3.5980e+03, 5.5380e+03, 8.9310e+03,\n",
      "        1.6070e+04,        inf], dtype=torch.float64)}, {'proba': tensor([0.0383]), 'tau': tensor([ 1.,  1.,  1.,  1.,  1.,  1.,  1.,  1.,  1.,  1.,  1.,  2.,  3.,  4.,\n",
      "         5.,  7., 11., 17., 31., inf], dtype=torch.float64)}, {'proba': tensor([0.0007]), 'tau': tensor([   2.,    3.,    4.,    5.,    7.,   10.,   14.,   20.,   28.,   41.,\n",
      "          59.,   85.,  124.,  181.,  268.,  402.,  618.,  996., 1792.,   inf],\n",
      "       dtype=torch.float64)}, {'proba': tensor([0.1709]), 'tau': tensor([1., 1., 1., 1., 1., 1., 1., 1., 1., 1., 1., 1., 1., 1., 1., 2., 3., 4.,\n",
      "        7., inf], dtype=torch.float64)}, {'proba': tensor([0.0260]), 'tau': tensor([ 1.,  1.,  1.,  1.,  1.,  1.,  1.,  1.,  1.,  2.,  2.,  3.,  4.,  5.,\n",
      "         7., 11., 16., 26., 46., inf], dtype=torch.float64)}, {'proba': tensor([0.0135]), 'tau': tensor([ 1.,  1.,  1.,  1.,  1.,  1.,  1.,  1.,  2.,  2.,  3.,  5.,  7.,  9.,\n",
      "        14., 20., 31., 49., 88., inf], dtype=torch.float64)}, {'proba': tensor([0.2099]), 'tau': tensor([1., 1., 1., 1., 1., 1., 1., 1., 1., 1., 1., 1., 1., 1., 1., 2., 2., 3.,\n",
      "        6., inf], dtype=torch.float64)}, {'proba': tensor([0.0019]), 'tau': tensor([  1.,   1.,   2.,   2.,   3.,   4.,   5.,   7.,  10.,  15.,  21.,  30.,\n",
      "         44.,  64.,  94., 141., 216., 348., 626.,  inf], dtype=torch.float64)}, {'proba': tensor([0.2706]), 'tau': tensor([1., 1., 1., 1., 1., 1., 1., 1., 1., 1., 1., 1., 1., 1., 1., 1., 2., 3.,\n",
      "        4., inf], dtype=torch.float64)}, {'proba': tensor([0.0004]), 'tau': tensor([3.0000e+00, 4.0000e+00, 6.0000e+00, 8.0000e+00, 1.1000e+01, 1.6000e+01,\n",
      "        2.3000e+01, 3.3000e+01, 4.8000e+01, 6.9000e+01, 9.9000e+01, 1.4400e+02,\n",
      "        2.0900e+02, 3.0600e+02, 4.5200e+02, 6.7900e+02, 1.0440e+03, 1.6840e+03,\n",
      "        3.0290e+03,        inf], dtype=torch.float64)}, {'proba': tensor([0.0041]), 'tau': tensor([  1.,   1.,   1.,   1.,   2.,   2.,   3.,   4.,   5.,   7.,  10.,  14.,\n",
      "         20.,  30.,  44.,  65., 100., 162., 291.,  inf], dtype=torch.float64)}, {'proba': tensor([0.0053]), 'tau': tensor([  1.,   1.,   1.,   1.,   1.,   2.,   2.,   3.,   4.,   6.,   8.,  11.,\n",
      "         16.,  23.,  34.,  51.,  78., 125., 225.,  inf], dtype=torch.float64)}, {'proba': tensor([0.0195]), 'tau': tensor([ 1.,  1.,  1.,  1.,  1.,  1.,  1.,  1.,  1.,  2.,  2.,  3.,  5.,  7.,\n",
      "        10., 14., 21., 34., 61., inf], dtype=torch.float64)}, {'proba': tensor([0.3580]), 'tau': tensor([1., 1., 1., 1., 1., 1., 1., 1., 1., 1., 1., 1., 1., 1., 1., 1., 1., 2.,\n",
      "        3., inf], dtype=torch.float64)}, {'proba': tensor([0.7013]), 'tau': tensor([1., 1., 1., 1., 1., 1., 1., 1., 1., 1., 1., 1., 1., 1., 1., 1., 1., 1.,\n",
      "        1., inf], dtype=torch.float64)}, {'proba': tensor([0.0022]), 'tau': tensor([  1.,   1.,   1.,   2.,   2.,   3.,   5.,   6.,   9.,  13.,  18.,  27.,\n",
      "         38.,  56.,  83., 124., 191., 307., 552.,  inf], dtype=torch.float64)}, {'proba': tensor([0.0095]), 'tau': tensor([  1.,   1.,   1.,   1.,   1.,   1.,   1.,   2.,   2.,   3.,   5.,   6.,\n",
      "          9.,  13.,  19.,  28.,  43.,  69., 125.,  inf], dtype=torch.float64)}, {'proba': tensor([0.0022]), 'tau': tensor([  1.,   1.,   1.,   2.,   2.,   3.,   5.,   6.,   9.,  13.,  18.,  26.,\n",
      "         38.,  55.,  81., 121., 187., 301., 541.,  inf], dtype=torch.float64)}, {'proba': tensor([0.0001]), 'tau': tensor([8.0000e+00, 1.1000e+01, 1.6000e+01, 2.3000e+01, 3.2000e+01, 4.6000e+01,\n",
      "        6.7000e+01, 9.6000e+01, 1.3800e+02, 1.9900e+02, 2.8800e+02, 4.1700e+02,\n",
      "        6.0800e+02, 8.9100e+02, 1.3170e+03, 1.9770e+03, 3.0430e+03, 4.9070e+03,\n",
      "        8.8290e+03,        inf], dtype=torch.float64)}, {'proba': tensor([6.5066e-05]), 'tau': tensor([1.6000e+01, 2.3000e+01, 3.2000e+01, 4.6000e+01, 6.6000e+01, 9.5000e+01,\n",
      "        1.3700e+02, 1.9800e+02, 2.8500e+02, 4.1100e+02, 5.9500e+02, 8.6300e+02,\n",
      "        1.2570e+03, 1.8410e+03, 2.7240e+03, 4.0890e+03, 6.2930e+03, 1.0148e+04,\n",
      "        1.8259e+04,        inf], dtype=torch.float64)}, {'proba': tensor([0.0015]), 'tau': tensor([  1.,   1.,   2.,   3.,   3.,   5.,   7.,   9.,  13.,  19.,  27.,  39.,\n",
      "         56.,  82., 121., 182., 280., 451., 811.,  inf], dtype=torch.float64)}, {'proba': tensor([0.0261]), 'tau': tensor([ 1.,  1.,  1.,  1.,  1.,  1.,  1.,  1.,  1.,  2.,  2.,  3.,  4.,  5.,\n",
      "         7., 11., 16., 25., 45., inf], dtype=torch.float64)}, {'proba': tensor([0.0029]), 'tau': tensor([  1.,   1.,   1.,   2.,   2.,   3.,   4.,   5.,   7.,  10.,  14.,  20.,\n",
      "         29.,  42.,  62.,  92., 142., 229., 411.,  inf], dtype=torch.float64)}, {'proba': tensor([0.0548]), 'tau': tensor([ 1.,  1.,  1.,  1.,  1.,  1.,  1.,  1.,  1.,  1.,  1.,  1.,  2.,  3.,\n",
      "         4.,  5.,  8., 12., 22., inf], dtype=torch.float64)}, {'proba': tensor([0.0055]), 'tau': tensor([  1.,   1.,   1.,   1.,   1.,   2.,   2.,   3.,   4.,   5.,   7.,  11.,\n",
      "         15.,  22.,  33.,  49.,  74., 120., 215.,  inf], dtype=torch.float64)}, {'proba': tensor([0.9999]), 'tau': tensor([1., 1., 1., 1., 1., 1., 1., 1., 1., 1., 1., 1., 1., 1., 1., 1., 1., 1.,\n",
      "        1., inf], dtype=torch.float64)}, {'proba': tensor([0.0130]), 'tau': tensor([ 1.,  1.,  1.,  1.,  1.,  1.,  1.,  1.,  2.,  3.,  3.,  5.,  7., 10.,\n",
      "        14., 21., 32., 51., 91., inf], dtype=torch.float64)}, {'proba': tensor([0.4900]), 'tau': tensor([1., 1., 1., 1., 1., 1., 1., 1., 1., 1., 1., 1., 1., 1., 1., 1., 1., 1.,\n",
      "        2., inf], dtype=torch.float64)}, {'proba': tensor([0.0014]), 'tau': tensor([  1.,   2.,   2.,   3.,   4.,   5.,   7.,  10.,  14.,  20.,  29.,  42.,\n",
      "         61.,  89., 131., 197., 303., 488., 878.,  inf], dtype=torch.float64)}, {'proba': tensor([0.0074]), 'tau': tensor([  1.,   1.,   1.,   1.,   1.,   1.,   2.,   2.,   3.,   4.,   6.,   8.,\n",
      "         12.,  17.,  24.,  36.,  56.,  90., 161.,  inf], dtype=torch.float64)}, {'proba': tensor([0.0022]), 'tau': tensor([  1.,   1.,   1.,   2.,   2.,   3.,   5.,   6.,   9.,  13.,  18.,  26.,\n",
      "         38.,  55.,  81., 121., 186., 300., 539.,  inf], dtype=torch.float64)}, {'proba': tensor([0.0004]), 'tau': tensor([3.0000e+00, 4.0000e+00, 6.0000e+00, 8.0000e+00, 1.2000e+01, 1.7000e+01,\n",
      "        2.4000e+01, 3.4000e+01, 4.9000e+01, 7.0000e+01, 1.0100e+02, 1.4700e+02,\n",
      "        2.1300e+02, 3.1200e+02, 4.6200e+02, 6.9300e+02, 1.0660e+03, 1.7190e+03,\n",
      "        3.0930e+03,        inf], dtype=torch.float64)}, {'proba': tensor([0.0013]), 'tau': tensor([  1.,   2.,   2.,   3.,   4.,   5.,   8.,  11.,  15.,  22.,  31.,  45.,\n",
      "         66.,  96., 142., 213., 328., 528., 949.,  inf], dtype=torch.float64)}, {'proba': tensor([8.3730e-05]), 'tau': tensor([1.2000e+01, 1.8000e+01, 2.5000e+01, 3.6000e+01, 5.2000e+01, 7.4000e+01,\n",
      "        1.0700e+02, 1.5400e+02, 2.2100e+02, 3.2000e+02, 4.6200e+02, 6.7000e+02,\n",
      "        9.7700e+02, 1.4310e+03, 2.1170e+03, 3.1770e+03, 4.8900e+03, 7.8860e+03,\n",
      "        1.4189e+04,        inf], dtype=torch.float64)}, {'proba': tensor([0.9949]), 'tau': tensor([1., 1., 1., 1., 1., 1., 1., 1., 1., 1., 1., 1., 1., 1., 1., 1., 1., 1.,\n",
      "        1., inf], dtype=torch.float64)}, {'proba': tensor([0.6843]), 'tau': tensor([1., 1., 1., 1., 1., 1., 1., 1., 1., 1., 1., 1., 1., 1., 1., 1., 1., 1.,\n",
      "        2., inf], dtype=torch.float64)}]\n"
     ]
    }
   ],
   "source": [
    "print(pred)"
   ]
  },
  {
   "cell_type": "code",
   "execution_count": null,
   "metadata": {},
   "outputs": [
    {
     "data": {
      "application/vnd.jupyter.widget-view+json": {
       "model_id": "eb1e3d8313f74b8b86759d4b213b161a",
       "version_major": 2,
       "version_minor": 0
      },
      "text/plain": [
       "Loading checkpoint shards:   0%|          | 0/2 [00:00<?, ?it/s]"
      ]
     },
     "metadata": {},
     "output_type": "display_data"
    }
   ],
   "source": [
    "# Create generation and rating backends\n",
    "from src.rating.detoxify import DetoxifyRater\n",
    "from src import utils\n",
    "from src.generation.vanilla_model import VanillaGenerator\n",
    "from src.survival_runner import (\n",
    "    SurvivalRunner,\n",
    "    SurvivalResult,\n",
    "    default_toxicity_func,\n",
    "    default_text_prep_func,\n",
    ")\n",
    "\n",
    "rater_backend = DetoxifyRater(\n",
    "    model_type=\"original\",\n",
    "    amp=True,\n",
    ")\n",
    "\n",
    "hf_key = utils.api_key_from_file(\"HF_KEY.txt\")\n",
    "\n",
    "# TODO: FIX ARGS\n",
    "generator_backend = VanillaGenerator(\n",
    "    model_name=\"meta-llama/Llama-3.2-3B\",\n",
    "    hf_token=hf_key,\n",
    "    max_input_tokens=40,\n",
    "    max_output_tokens=30,\n",
    ")\n",
    "\n",
    "batch_size = 1500\n",
    "\n",
    "survival_runner = SurvivalRunner(\n",
    "    generator=generator_backend,\n",
    "    rater=rater_backend,\n",
    "    max_attempts=torch.tensor([item['tau'][idx].item() for item in pred]),\n",
    "    toxicity_func=default_toxicity_func,\n",
    "    text_prep_func=lambda gen: gen.prompt + gen.output,\n",
    "    conserve_memory=False,\n",
    ")\n",
    "\n",
    "survival_results = survival_runner.generate(\n",
    "    prompts=cal_prompts,\n",
    "    batch_size=batch_size,\n",
    ")"
   ]
  },
  {
   "cell_type": "code",
   "execution_count": 4,
   "metadata": {},
   "outputs": [
    {
     "data": {
      "application/vnd.jupyter.widget-view+json": {
       "model_id": "0bbe72e81cba47899c65d82de9715b7e",
       "version_major": 2,
       "version_minor": 0
      },
      "text/plain": [
       "Processing Prompts:   0%|          | 0/100 [00:00<?, ?it/s]"
      ]
     },
     "metadata": {},
     "output_type": "display_data"
    }
   ],
   "source": [
    "survival_list = [result for result in survival_results]"
   ]
  },
  {
   "cell_type": "code",
   "execution_count": null,
   "metadata": {},
   "outputs": [
    {
     "data": {
      "image/png": "[encoded data removed]",
      "text/plain": [
       "<Figure size 640x480 with 1 Axes>"
      ]
     },
     "metadata": {},
     "output_type": "display_data"
    }
   ],
   "source": [
    "lens = [len(survival_list[i].ratings) for i in range(len(survival_list))]\n",
    "# plot the distribution of the number of attempts\n",
    "import matplotlib.pyplot as plt\n",
    "plt.hist(lens, bins=range(0, 41, 1))\n",
    "plt.xlabel(\"Number of attempts\")\n",
    "plt.ylabel(\"Frequency\")\n",
    "plt.title(\"Distribution of the number of attempts\")\n",
    "plt.show()"
   ]
  },
  {
   "cell_type": "code",
   "execution_count": 19,
   "metadata": {},
   "outputs": [
    {
     "data": {
      "image/png": "[encoded data removed]",
      "text/plain": [
       "<Figure size 640x480 with 1 Axes>"
      ]
     },
     "metadata": {},
     "output_type": "display_data"
    }
   ],
   "source": [
    "# Plot the distribution of [item['tau'][idx].item() for item in pred]\n",
    "plt.hist([item['tau'][idx].item() for item in pred], bins=range(0, 41, 1))\n",
    "plt.xlabel(\"Tau\")\n",
    "plt.ylabel(\"Frequency\")\n",
    "plt.title(\"Distribution of Tau\")\n",
    "plt.show()"
   ]
  },
  {
   "cell_type": "code",
   "execution_count": 27,
   "metadata": {},
   "outputs": [
    {
     "name": "stdout",
     "output_type": "stream",
     "text": [
      "tensor(True)\n"
     ]
    },
    {
     "name": "stderr",
     "output_type": "stream",
     "text": [
      "/tmp/ipykernel_509526/2455579458.py:6: UserWarning: To copy construct from a tensor, it is recommended to use sourceTensor.clone().detach() or sourceTensor.clone().detach().requires_grad_(True), rather than torch.tensor(sourceTensor).\n",
      "  lens = torch.tensor(lens).sort().values\n"
     ]
    }
   ],
   "source": [
    "max_attempts = [survival_list[i].max_attempts.item() for i in range(len(survival_list))]\n",
    "taus = [item['tau'][idx].item() for item in pred]\n",
    "\n",
    "max_attempts = torch.tensor(max_attempts).sort().values\n",
    "taus = torch.tensor(taus).sort().values\n",
    "lens = torch.tensor(lens).sort().values\n",
    "\n",
    "# Check if they are the same\n",
    "print((taus >= lens).all())"
   ]
  },
  {
   "cell_type": "code",
   "execution_count": 86,
   "metadata": {},
   "outputs": [
    {
     "name": "stderr",
     "output_type": "stream",
     "text": [
      "GPU available: True (cuda), used: True\n",
      "TPU available: False, using: 0 TPU cores\n",
      "HPU available: False, using: 0 HPUs\n",
      "LOCAL_RANK: 0 - CUDA_VISIBLE_DEVICES: [0]\n"
     ]
    },
    {
     "data": {
      "application/vnd.jupyter.widget-view+json": {
       "model_id": "26b0fad9c07041c783fb9080ec04d6bd",
       "version_major": 2,
       "version_minor": 0
      },
      "text/plain": [
       "Predicting: |          | 0/? [00:00<?, ?it/s]"
      ]
     },
     "metadata": {},
     "output_type": "display_data"
    },
    {
     "data": {
      "application/vnd.jupyter.widget-view+json": {
       "model_id": "dd6294e5f2bc44f38e0178785d638062",
       "version_major": 2,
       "version_minor": 0
      },
      "text/plain": [
       "Processing Prompts:   0%|          | 0/100 [00:00<?, ?it/s]"
      ]
     },
     "metadata": {},
     "output_type": "display_data"
    },
    {
     "name": "stdout",
     "output_type": "stream",
     "text": [
      "Total budget used per sample is 11.9\n",
      "[0.         0.         0.         0.         0.         0.\n",
      " 0.         0.         0.         0.         0.         0.\n",
      " 0.         0.         0.         0.         0.         0.\n",
      " 0.         0.         0.         0.         0.         0.\n",
      " 0.         0.         0.         0.         0.         0.\n",
      " 0.         0.         0.         0.         0.         0.\n",
      " 0.         0.         0.         0.         0.         0.\n",
      " 0.         0.         0.         0.         0.         0.\n",
      " 0.         0.         0.         0.         0.         0.\n",
      " 0.         0.         0.         0.         0.         0.\n",
      " 0.         0.         0.         0.         0.         0.\n",
      " 0.         0.         0.         0.         0.         0.\n",
      " 0.         0.         0.         0.         0.         0.\n",
      " 0.         0.         0.         0.         0.         0.\n",
      " 0.         0.         0.         0.         0.         0.\n",
      " 0.         0.         0.         0.         0.         0.\n",
      " 0.         0.         0.         0.         0.         0.\n",
      " 0.         0.         0.         0.         0.         0.\n",
      " 0.         0.         0.         0.         0.         0.\n",
      " 0.         0.         0.         0.01798242 0.01798242 0.01798242\n",
      " 0.03302893 0.03302893 0.03302893 0.03302893 0.03302893 0.03302893\n",
      " 0.05897414 0.05897414 0.05897414 0.08491935 0.08491935 0.08491935\n",
      " 0.09789195 0.09789195 0.13018691 0.14315951 0.14315951 0.14315951\n",
      " 0.14315951 0.15613212 0.15613212 0.16910472 0.16910472 0.16910472\n",
      " 0.16910472 0.16910472 0.18782111 0.18782111 0.18782111 0.18782111\n",
      " 0.18782111 0.18782111 0.18782111 0.20079372 0.22673893 0.25268413\n",
      " 0.25268413 0.25268413 0.25268413 0.25268413 0.25268413 0.25268413\n",
      " 0.26565674 0.36657848 0.36657848 0.36657848 0.37955108 0.40549629\n",
      " 0.40549629 0.40549629 0.40549629 0.41846889 0.41846889 0.41846889\n",
      " 0.41846889 0.45786464 0.50179227 0.51476487 0.54071008 0.55832551\n",
      " 0.55832551 0.55832551 0.55832551 0.55832551 0.55832551 0.55832551\n",
      " 0.55832551 0.58427072 0.58427072 0.59724332 0.59724332 0.59724332\n",
      " 0.59724332 0.61082188 0.61082188 0.61082188 0.61082188 0.61082188\n",
      " 0.61082188 0.62379449]\n",
      "[[1. 1. 1. ... 1. 1. 1.]\n",
      " [0. 0. 0. ... 0. 0. 0.]\n",
      " [1. 1. 1. ... 1. 1. 1.]\n",
      " ...\n",
      " [0. 0. 0. ... 0. 0. 0.]\n",
      " [1. 1. 1. ... 1. 1. 1.]\n",
      " [1. 1. 1. ... 1. 1. 1.]]\n",
      "[1.         0.05       1.         1.         0.05       1.\n",
      " 0.40630847 1.         0.05       0.05       0.48423065 1.\n",
      " 1.         0.39717795 1.         1.         1.         1.\n",
      " 1.         1.         0.05       1.         1.         1.\n",
      " 1.         0.62015504 1.         1.         0.86216676 0.15780731\n",
      " 0.05       1.         1.         1.         1.         0.17943572\n",
      " 0.32430126 0.05       0.06784806 1.         1.         1.\n",
      " 1.         1.         0.05       0.72140484 1.         1.\n",
      " 0.09017561 0.2129448  0.78552972 1.         0.15236568 0.15302527\n",
      " 0.05       1.         1.         0.06837299 1.         0.40169133\n",
      " 1.         1.         0.09017561 0.69311446 0.05       1.\n",
      " 0.22231973 1.         1.         1.         1.         0.63122924\n",
      " 1.         0.13140832 1.         1.         1.         1.\n",
      " 1.         0.72140484 1.         0.73643411 0.05       0.05\n",
      " 0.49095607 1.         0.95537398 1.         1.         1.\n",
      " 1.         1.         0.45319022 1.         0.73643411 0.12854123\n",
      " 0.41586867 0.05       1.         1.        ]\n",
      "[[0 0 0 ... 1 1 1]\n",
      " [0 0 0 ... 1 1 1]\n",
      " [0 0 0 ... 0 0 0]\n",
      " ...\n",
      " [0 0 0 ... 1 1 1]\n",
      " [0 0 0 ... 0 0 0]\n",
      " [0 0 0 ... 0 0 0]]\n"
     ]
    }
   ],
   "source": [
    "# Force reimport\n",
    "import importlib\n",
    "import src.conformal\n",
    "importlib.reload(src.conformal)\n",
    "from src.conformal import conformalize\n",
    "\n",
    "trainer = pl.Trainer()\n",
    "target_taus = torch.tensor([0.1])\n",
    "canidate_taus = torch.tensor(np.logspace(-5, -1, 200))\n",
    "\n",
    "a_hat, max_est = conformalize(trainer=trainer, model=model, target_taus=target_taus, canidate_taus=canidate_taus, X=cal_prompts, generation_backend=generator_backend, rating_backend=rater_backend, \n",
    "                              budget_per_sample=20, share_budget=True, min_sample_size=0.05, text_prep_func=lambda gen: gen.prompt + gen.output)"
   ]
  },
  {
   "cell_type": "code",
   "execution_count": 87,
   "metadata": {},
   "outputs": [
    {
     "name": "stdout",
     "output_type": "stream",
     "text": [
      "tensor([0.0047], dtype=torch.float64)\n",
      "706\n"
     ]
    }
   ],
   "source": [
    "print(a_hat)\n",
    "print(max_est)"
   ]
  }
 ],
 "metadata": {
  "kernelspec": {
   "display_name": "llm-survival",
   "language": "python",
   "name": "python3"
  },
  "language_info": {
   "codemirror_mode": {
    "name": "ipython",
    "version": 3
   },
   "file_extension": ".py",
   "mimetype": "text/x-python",
   "name": "python",
   "nbconvert_exporter": "python",
   "pygments_lexer": "ipython3",
   "version": "3.13.1"
  }
 },
 "nbformat": 4,
 "nbformat_minor": 2
}
