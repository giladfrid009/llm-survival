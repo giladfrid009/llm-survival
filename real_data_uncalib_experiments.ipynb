{
 "cells": [
  {
   "cell_type": "code",
   "execution_count": 1,
   "id": "5c7270d0",
   "metadata": {},
   "outputs": [
    {
     "name": "stdout",
     "output_type": "stream",
     "text": [
      "INFO 05-07 22:52:44 [importing.py:53] Triton module has been replaced with a placeholder.\n",
      "INFO 05-07 22:52:45 [__init__.py:239] Automatically detected platform cuda.\n"
     ]
    }
   ],
   "source": [
    "import pytorch_lightning as pl\n",
    "from huggingface_hub.hf_api import HfFolder\n",
    "import torch\n",
    "import numpy as np\n",
    "from torch.utils.data import DataLoader\n",
    "import pandas as pd\n",
    "\n",
    "from src.failure_model import ToxicClassifier\n",
    "from src.datasets import PromptOnlyDataset, SurvivalDataset\n",
    "from src.conformal import conformalize\n",
    "from src import utils\n",
    "\n",
    "import time\n",
    "import os\n",
    "import sys\n",
    "import logging\n",
    "\n",
    "\n",
    "import torch._dynamo\n",
    "\n",
    "\n",
    "# NOTE: supress more errors, great\n",
    "torch._dynamo.config.suppress_errors = True"
   ]
  },
  {
   "cell_type": "code",
   "execution_count": 2,
   "id": "4b080972",
   "metadata": {},
   "outputs": [],
   "source": [
    "def save_results(save_path, df):\n",
    "    df.to_csv(save_path, index=False)\n",
    "    print(f\"Results saved to {save_path}\")\n",
    "\n",
    "\n",
    "def load_results(save_path):\n",
    "    df = pd.read_csv(save_path, index_col=None)\n",
    "    print(f\"Results loaded from {save_path}\")\n",
    "    return df"
   ]
  },
  {
   "cell_type": "code",
   "execution_count": 4,
   "id": "cb46bcbe",
   "metadata": {},
   "outputs": [],
   "source": [
    "\n",
    "TEST_PROMPTS_PATH = \"data/test_prompt_only.pkl\"\n",
    "TEST_SURV_TIME_PATH = \"data/test_surv_times.npy\"\n",
    "\n",
    "# MODEL_PATH = \"saved/Prop_rtp_500_ModernBERT/lightning_logs/version_0/checkpoints/epoch=4-step=495.ckpt\"\n",
    "MODEL_PATH = \"saved/Prop_rtp_500_ModernBERT/lightning_logs/version_1/checkpoints/epoch=7-step=792.ckpt\"\n",
    "# MODEL_PATH = \"saved/Jigsaw_BERT/lightning_logs/version_1/checkpoints/epoch=4-step=970.ckpt\"\n",
    "\n",
    "TARGET_TAUS = torch.tensor([0.1])\n",
    "TAUS_RANGE = torch.tensor([0.1])\n",
    "TAU_TARGET_IDX = np.argmin(torch.abs(TAUS_RANGE - TARGET_TAUS)).item()\n",
    "\n",
    "BATCH_SIZE = 1500\n",
    "\n",
    "SAVE_PATH = \"results_uncalib.csv\""
   ]
  },
  {
   "cell_type": "code",
   "execution_count": 5,
   "id": "cd52571f",
   "metadata": {},
   "outputs": [
    {
     "name": "stdout",
     "output_type": "stream",
     "text": [
      "Loaded 12000 test samples.\n"
     ]
    }
   ],
   "source": [
    "# laod data\n",
    "\n",
    "ds_test = PromptOnlyDataset(TEST_PROMPTS_PATH)\n",
    "dl_test = DataLoader(ds_test, batch_size=1500, shuffle=False)\n",
    "test_t_tilde = np.load(TEST_SURV_TIME_PATH)\n",
    "\n",
    "print(f\"Loaded {len(ds_test)} test samples.\")"
   ]
  },
  {
   "cell_type": "code",
   "execution_count": 6,
   "id": "9a70471e",
   "metadata": {},
   "outputs": [
    {
     "name": "stderr",
     "output_type": "stream",
     "text": [
      "Some weights of ModernBertForSequenceClassification were not initialized from the model checkpoint at answerdotai/ModernBERT-base and are newly initialized: ['classifier.bias', 'classifier.weight']\n",
      "You should probably TRAIN this model on a down-stream task to be able to use it for predictions and inference.\n"
     ]
    }
   ],
   "source": [
    "# load model\n",
    "model = ToxicClassifier.load_from_checkpoint(MODEL_PATH)\n",
    "_ = model.eval()\n",
    "\n",
    "model.set_taus(TAUS_RANGE)\n",
    "model.set_min_p_for_q_tau(1e-20)"
   ]
  },
  {
   "cell_type": "code",
   "execution_count": null,
   "id": "11c56096",
   "metadata": {},
   "outputs": [
    {
     "name": "stderr",
     "output_type": "stream",
     "text": [
      "/home/fre.gilad/miniforge3/envs/llm-survival-final/lib/python3.11/site-packages/lightning_fabric/plugins/environments/slurm.py:204: The `srun` command is available on your system but is not used. HINT: If your intention is to run Lightning on SLURM, prepend your python command with `srun` like so: srun python /home/fre.gilad/miniforge3/envs/llm-survival-final/l ...\n",
      "Using default `ModelCheckpoint`. Consider installing `litmodels` package to enable `LitModelCheckpoint` for automatic upload to the Lightning model registry.\n",
      "GPU available: True (cuda), used: True\n",
      "TPU available: False, using: 0 TPU cores\n",
      "HPU available: False, using: 0 HPUs\n",
      "/home/fre.gilad/miniforge3/envs/llm-survival-final/lib/python3.11/site-packages/pytorch_lightning/trainer/connectors/logger_connector/logger_connector.py:76: Starting from v1.9.0, `tensorboardX` has been removed as a dependency of the `pytorch_lightning` package, due to potential conflicts with other packages in the ML ecosystem. For this reason, `logger=True` will use `CSVLogger` as the default logger, unless the `tensorboard` or `tensorboardX` packages are found. Please `pip install lightning[extra]` or one of them to enable TensorBoard support by default\n",
      "You are using a CUDA device ('NVIDIA L40S') that has Tensor Cores. To properly utilize them, you should set `torch.set_float32_matmul_precision('medium' | 'high')` which will trade-off precision for performance. For more details, read https://pytorch.org/docs/stable/generated/torch.set_float32_matmul_precision.html#torch.set_float32_matmul_precision\n"
     ]
    },
    {
     "name": "stderr",
     "output_type": "stream",
     "text": [
      "LOCAL_RANK: 0 - CUDA_VISIBLE_DEVICES: [0]\n",
      "/home/fre.gilad/miniforge3/envs/llm-survival-final/lib/python3.11/site-packages/pytorch_lightning/trainer/connectors/data_connector.py:425: The 'predict_dataloader' does not have many workers which may be a bottleneck. Consider increasing the value of the `num_workers` argument` to `num_workers=9` in the `DataLoader` to improve performance.\n"
     ]
    },
    {
     "data": {
      "application/vnd.jupyter.widget-view+json": {
       "model_id": "2465c7129f78494da63f7fd1cb8bfb36",
       "version_major": 2,
       "version_minor": 0
      },
      "text/plain": [
       "Predicting: |          | 0/? [00:00<?, ?it/s]"
      ]
     },
     "metadata": {},
     "output_type": "display_data"
    },
    {
     "name": "stdout",
     "output_type": "stream",
     "text": [
      "Test miscoverage: 0.1357\n",
      "Test mean LPB: 532.2369\n",
      "Results saved to results_uncalib.csv\n"
     ]
    }
   ],
   "source": [
    "\n",
    "# NOTE: dont enable multiple-gpus for inference, as it causes weird bugs\n",
    "trainer = pl.Trainer(accelerator=\"gpu\", devices=1)\n",
    "\n",
    "# compute LPB on test set\n",
    "test_pred_raw = trainer.predict(model, dataloaders=dl_test)\n",
    "test_quantile_est = np.vstack([p[\"tau\"].T for p in test_pred_raw]).clip(min=1)\n",
    "tau_hat_pred = test_quantile_est[:, TAU_TARGET_IDX].flatten().astype(np.int64)\n",
    "test_mean_lpb = tau_hat_pred.mean().item()\n",
    "\n",
    "# compute LPB on test set for covered samples\n",
    "test_mean_covered_lpb = tau_hat_pred[test_t_tilde >= tau_hat_pred].mean().item()\n",
    "\n",
    "# compute miscoverage upper-bound on test set\n",
    "test_miscoverage = np.mean(test_t_tilde < tau_hat_pred)\n",
    "\n",
    "# add results to dataframe\n",
    "result_dict = {\n",
    "    \"exp_name\": \"Uncalibrated\",\n",
    "    \"exp_min_sample_size\": np.nan,\n",
    "    \"exp_share_budget\": False,\n",
    "    \"exp_naive\": False,\n",
    "    \"exp_budget\": np.nan,\n",
    "    \"exp_run_num\": 0,\n",
    "    \"tau_hat\": TARGET_TAUS[TAU_TARGET_IDX].item(),\n",
    "    \"max_est\": np.inf,\n",
    "    \"cal_hours\": np.nan,\n",
    "    \"cal_mean_generated_samples\": np.nan,\n",
    "    \"cal_mean_c_value\": np.nan,\n",
    "    \"cal_miscoverage\": np.nan,\n",
    "    \"test_miscoverage\": test_miscoverage,\n",
    "    \"test_mean_lpb\": test_mean_lpb,\n",
    "    \"test_mean_covered_lpb\": test_mean_covered_lpb\n",
    "}\n",
    "\n",
    "print(f\"Test miscoverage: {test_miscoverage:.4f}\")\n",
    "print(f\"Test mean LPB: {test_mean_lpb:.4f}\")\n",
    "print(f\"Test mean covered LPB: {test_mean_covered_lpb:.4f}\")\n",
    "\n",
    "result_df = pd.DataFrame([result_dict])\n",
    "save_results(SAVE_PATH, result_df)"
   ]
  }
 ],
 "metadata": {
  "kernelspec": {
   "display_name": "llm-survival-final",
   "language": "python",
   "name": "python3"
  },
  "language_info": {
   "codemirror_mode": {
    "name": "ipython",
    "version": 3
   },
   "file_extension": ".py",
   "mimetype": "text/x-python",
   "name": "python",
   "nbconvert_exporter": "python",
   "pygments_lexer": "ipython3",
   "version": "3.11.12"
  }
 },
 "nbformat": 4,
 "nbformat_minor": 5
}
