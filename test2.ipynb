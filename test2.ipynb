{
 "cells": [
  {
   "cell_type": "code",
   "execution_count": null,
   "metadata": {},
   "outputs": [],
   "source": [
    "from src import utils\n",
    "from src.rating.base import *\n",
    "from src.generation.base import *\n",
    "import torch\n",
    "\n",
    "utils.set_seed(42)\n",
    "utils.clear_memory()\n",
    "\n",
    "\n",
    "# load data\n",
    "\n",
    "import pandas as pd\n",
    "\n",
    "df = pd.read_json(\"hf://datasets/allenai/real-toxicity-prompts/prompts.jsonl\", lines=True)\n",
    "\n",
    "input_dicts = df[\"prompt\"].values.flatten().tolist()\n",
    "\n",
    "inputs = [d[\"text\"] for d in input_dicts]\n",
    "\n",
    "\n",
    "hf_key = utils.api_key_from_file(\"HF_KEY.txt\")"
   ]
  },
  {
   "cell_type": "code",
   "execution_count": null,
   "metadata": {},
   "outputs": [],
   "source": [
    "from src.rating.detoxify import DetoxifyRater\n",
    "from src.generation.vanilla_model_vllm import VanillaGeneratorVLLM\n",
    "\n",
    "rater_backend = DetoxifyRater(\n",
    "    model_type=\"original\",\n",
    "    amp=True,\n",
    ")\n",
    "\n",
    "max_input_tokens = 40\n",
    "max_output_tokens = 30\n",
    "batch_size = 500\n",
    "\n",
    "generator_backend = VanillaGeneratorVLLM(\n",
    "    model_name=\"meta-llama/Llama-3.2-1B\",\n",
    "    hf_token=hf_key,\n",
    "    max_output_tokens=30,\n",
    "    model_args={\n",
    "        \"gpu_memory_utilization\": 0.9,\n",
    "        \"max_model_len\": max_input_tokens + max_output_tokens,\n",
    "        # \"max_seq_len_to_capture\": max_input_tokens + max_output_tokens,\n",
    "        \"max_num_seqs\": batch_size,\n",
    "        \"max_num_batched_tokens\": (max_input_tokens+max_output_tokens) * batch_size,\n",
    "    },\n",
    ")"
   ]
  },
  {
   "cell_type": "code",
   "execution_count": null,
   "metadata": {},
   "outputs": [],
   "source": [
    "# create survival analysis runner\n",
    "\n",
    "from functools import partial\n",
    "from src.survival_runner import (\n",
    "    SurvivalRunner,\n",
    "    SurvivalResult,\n",
    "    default_toxicity_func,\n",
    "    default_text_prep_func,\n",
    ")\n",
    "\n",
    "max_attempts = 40\n",
    "\n",
    "survival_runner = SurvivalRunner(\n",
    "    generator=generator_backend,\n",
    "    rater=rater_backend,\n",
    "    max_attempts=max_attempts,\n",
    "    toxicity_func=(lambda gen: False),\n",
    "    text_prep_func=lambda gen: gen.prompt + gen.output,\n",
    "    conserve_memory=False,\n",
    ")\n",
    "\n",
    "survival_results = survival_runner.generate(\n",
    "    prompts=inputs,\n",
    "    batch_size=batch_size,\n",
    ")\n",
    "\n",
    "\n",
    "# run survival analysis and print results\n",
    "\n",
    "survival_list: list[SurvivalResult] = [res for res in survival_results]"
   ]
  },
  {
   "cell_type": "code",
   "execution_count": null,
   "metadata": {},
   "outputs": [],
   "source": [
    "# Save to disk the survival results\n",
    "import pickle\n",
    "\n",
    "with open(\"multisample_results.pkl\", \"wb\") as f:\n",
    "    pickle.dump(survival_list, f)"
   ]
  }
 ],
 "metadata": {
  "kernelspec": {
   "display_name": "vllm4",
   "language": "python",
   "name": "python3"
  },
  "language_info": {
   "codemirror_mode": {
    "name": "ipython",
    "version": 3
   },
   "file_extension": ".py",
   "mimetype": "text/x-python",
   "name": "python",
   "nbconvert_exporter": "python",
   "pygments_lexer": "ipython3",
   "version": "3.11.11"
  }
 },
 "nbformat": 4,
 "nbformat_minor": 2
}
