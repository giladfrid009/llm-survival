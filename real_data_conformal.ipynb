{
 "cells": [
  {
   "cell_type": "code",
   "execution_count": null,
   "metadata": {},
   "outputs": [],
   "source": [
    "# Load the lightning model from checkpoint\n",
    "\n",
    "import pytorch_lightning as pl\n",
    "import torch\n",
    "import numpy as np\n",
    "from src.failure_model import ToxicClassifier\n",
    "from src.datasets import PromptOnlyDataset, PropDataset\n",
    "\n",
    "cal_prompts = PromptOnlyDataset(\"data/rtp/split_1_0.5_0.1_0.2_0.2/cal.pkl\")\n",
    "\n",
    "cal_prompts.data = cal_prompts.data[-100:]\n",
    "\n",
    "# Examine the model weights in the checkpoint before loading\n",
    "checkpoint = torch.load(\"saved/Prop_RTP_ModernBERT/lightning_logs/version_26/checkpoints/epoch=4-step=495.ckpt\")\n",
    "\n",
    "model = ToxicClassifier.load_from_checkpoint(\"saved/Prop_RTP_ModernBERT/lightning_logs/version_26/checkpoints/epoch=4-step=495.ckpt\")\n",
    "\n",
    "taus = torch.tensor(np.logspace(-3, 0, 20))\n",
    "# Get the index closest to 0.1\n",
    "idx = (taus - 0.1).abs().argmin()\n",
    "model.set_taus(taus)\n",
    "model.eval()\n",
    "\n",
    "trainer = pl.Trainer()\n",
    "pred = trainer.predict(model, cal_prompts)"
   ]
  },
  {
   "cell_type": "code",
   "execution_count": null,
   "metadata": {},
   "outputs": [],
   "source": [
    "print(pred)"
   ]
  },
  {
   "cell_type": "code",
   "execution_count": null,
   "metadata": {},
   "outputs": [],
   "source": [
    "# Create generation and rating backends\n",
    "from src.rating.detoxify import DetoxifyRater\n",
    "from src import utils\n",
    "from src.generation.vanilla_model_vllm import VanillaGeneratorVLLM\n",
    "from src.survival_runner import (\n",
    "    SurvivalRunner,\n",
    "    SurvivalResult,\n",
    "    default_toxicity_func,\n",
    "    default_text_prep_func,\n",
    ")\n",
    "\n",
    "rater_backend = DetoxifyRater(\n",
    "    model_type=\"original\",\n",
    "    amp=True,\n",
    ")\n",
    "\n",
    "hf_key = utils.api_key_from_file(\"HF_KEY.txt\")\n",
    "\n",
    "# TODO: FIX ARGS\n",
    "generator_backend = VanillaGeneratorVLLM(\n",
    "    model_name=\"meta-llama/Llama-3.2-3B\",\n",
    "    hf_token=hf_key,\n",
    "    max_input_tokens=40,\n",
    "    max_output_tokens=30,\n",
    ")\n",
    "\n",
    "batch_size = 1500\n",
    "\n",
    "survival_runner = SurvivalRunner(\n",
    "    generator=generator_backend,\n",
    "    rater=rater_backend,\n",
    "    max_attempts=10e5,\n",
    "    toxicity_func=default_toxicity_func,\n",
    "    text_prep_func=lambda gen: gen.prompt + gen.output,\n",
    "    conserve_memory=False,\n",
    ")\n",
    "\n",
    "survival_results = survival_runner.generate(\n",
    "    prompts=cal_prompts,\n",
    "    max_attempts=torch.tensor([item['tau'][idx].item() for item in pred]),\n",
    "    batch_size=batch_size,\n",
    ")"
   ]
  },
  {
   "cell_type": "code",
   "execution_count": null,
   "metadata": {},
   "outputs": [],
   "source": [
    "survival_list = [result for result in survival_results]"
   ]
  },
  {
   "cell_type": "code",
   "execution_count": null,
   "metadata": {},
   "outputs": [],
   "source": [
    "lens = [len(survival_list[i].ratings) for i in range(len(survival_list))]\n",
    "# plot the distribution of the number of attempts\n",
    "import matplotlib.pyplot as plt\n",
    "plt.hist(lens, bins=range(0, 41, 1))\n",
    "plt.xlabel(\"Number of attempts\")\n",
    "plt.ylabel(\"Frequency\")\n",
    "plt.title(\"Distribution of the number of attempts\")\n",
    "plt.show()"
   ]
  },
  {
   "cell_type": "code",
   "execution_count": null,
   "metadata": {},
   "outputs": [],
   "source": [
    "# Plot the distribution of [item['tau'][idx].item() for item in pred]\n",
    "plt.hist([item['tau'][idx].item() for item in pred], bins=range(0, 41, 1))\n",
    "plt.xlabel(\"Tau\")\n",
    "plt.ylabel(\"Frequency\")\n",
    "plt.title(\"Distribution of Tau\")\n",
    "plt.show()"
   ]
  },
  {
   "cell_type": "code",
   "execution_count": null,
   "metadata": {},
   "outputs": [],
   "source": [
    "max_attempts = [survival_list[i].max_attempts.item() for i in range(len(survival_list))]\n",
    "taus = [item['tau'][idx].item() for item in pred]\n",
    "\n",
    "max_attempts = torch.tensor(max_attempts).sort().values\n",
    "taus = torch.tensor(taus).sort().values\n",
    "lens = torch.tensor(lens).sort().values\n",
    "\n",
    "# Check if they are the same\n",
    "print((taus >= lens).all())"
   ]
  },
  {
   "cell_type": "code",
   "execution_count": null,
   "metadata": {},
   "outputs": [],
   "source": [
    "# Force reimport\n",
    "import importlib\n",
    "import src.conformal\n",
    "importlib.reload(src.conformal)\n",
    "from src.conformal import conformalize\n",
    "\n",
    "trainer = pl.Trainer()\n",
    "target_taus = torch.tensor([0.1])\n",
    "canidate_taus = torch.tensor(np.logspace(-5, -1, 200))\n",
    "\n",
    "a_hat, max_est = conformalize(trainer=trainer, model=model, target_taus=target_taus, canidate_taus=canidate_taus, X=cal_prompts, generation_backend=generator_backend, rating_backend=rater_backend, \n",
    "                              budget_per_sample=20, share_budget=True, min_sample_size=0.05, text_prep_func=lambda gen: gen.prompt + gen.output)"
   ]
  },
  {
   "cell_type": "code",
   "execution_count": null,
   "metadata": {},
   "outputs": [],
   "source": [
    "print(a_hat)\n",
    "print(max_est)"
   ]
  }
 ],
 "metadata": {
  "kernelspec": {
   "display_name": "vllm4",
   "language": "python",
   "name": "python3"
  },
  "language_info": {
   "codemirror_mode": {
    "name": "ipython",
    "version": 3
   },
   "file_extension": ".py",
   "mimetype": "text/x-python",
   "name": "python",
   "nbconvert_exporter": "python",
   "pygments_lexer": "ipython3",
   "version": "3.11.11"
  }
 },
 "nbformat": 4,
 "nbformat_minor": 2
}
