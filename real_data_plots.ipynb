{
 "cells": [
  {
   "cell_type": "code",
   "execution_count": null,
   "id": "5cbaac81",
   "metadata": {},
   "outputs": [],
   "source": [
    "import pandas as pd\n",
    "import matplotlib.pyplot as plt"
   ]
  },
  {
   "cell_type": "code",
   "execution_count": null,
   "id": "07808171",
   "metadata": {},
   "outputs": [],
   "source": [
    "results_path = \"results.csv\"\n",
    "results = pd.read_csv(results_path)"
   ]
  },
  {
   "cell_type": "code",
   "execution_count": null,
   "id": "4ada7629",
   "metadata": {},
   "outputs": [],
   "source": [
    "display(results)"
   ]
  },
  {
   "cell_type": "code",
   "execution_count": null,
   "id": "7ecd666e",
   "metadata": {},
   "outputs": [],
   "source": [
    "print(results.columns.to_list())"
   ]
  },
  {
   "cell_type": "code",
   "execution_count": null,
   "id": "bda7f11f",
   "metadata": {},
   "outputs": [],
   "source": [
    "import seaborn as sns\n",
    "\n",
    "# in all plots, the legend is exp_name\n",
    "# the x axis in all plots is exp_budget\n",
    "# for each y value create a distinct plot:\n",
    "# exp_budget vs the following: 'tau_hat', 'max_est', 'cal_mean_generated_samples', 'cal_mean_c_value', 'cal_miscoverage', 'test_miscoverage', 'test_mean_lpb', `cal_hours`\n",
    "\n",
    "# use sns.lineplot to plot the results\n",
    "def plot_results(x, y, title, xlabel, ylabel, ax = None) -> plt.Axes:\n",
    "    \n",
    "    if ax is None:\n",
    "        fig, ax = plt.subplots(figsize=(10, 6))\n",
    "    \n",
    "    # Create a line plot with confidence intervals\n",
    "    ax = sns.lineplot(data=results, x=x, y=y, hue='exp_name', ax=ax, marker=\"o\", errorbar=\"sd\")\n",
    "    ax.set_title(title)\n",
    "    ax.set_xlabel(xlabel)\n",
    "    ax.set_ylabel(ylabel)\n",
    "    # ax.set_xscale('log')\n",
    "    # ax.set_yscale('log')\n",
    "    return ax\n",
    "    \n",
    "fig, axes = plt.subplots(3, 3, figsize=(25, 15))\n",
    "axes = axes.flatten()\n",
    "        \n",
    "# 1. exp_budget vs tau_hat\n",
    "ax = plot_results('exp_budget', 'tau_hat', 'Estimated tau_hat vs Budget', 'Budget per Sample', 'Estimated tau_hat', ax=axes[0])\n",
    "ax.axhline(y=0.1, color='r', linestyle='--', label='True tau')\n",
    "ax.legend()\n",
    "\n",
    "# 2. exp_budget vs max_est\n",
    "plot_results('exp_budget', 'max_est', 'Max Estimation vs Budget', 'Budget per Sample', 'Max Estimation', ax=axes[1])\n",
    "\n",
    "# 3. exp_budget vs cal_mean_generated_samples\n",
    "ax = plot_results('exp_budget', 'cal_mean_generated_samples', 'Mean Generated Samples vs Budget', 'Budget per Sample', 'Mean Generated Samples', ax=axes[2])\n",
    "ax.plot(results['exp_budget'].unique(), results['exp_budget'].unique(), color='red', linestyle='--', label='Ideal Budget Used')\n",
    "ax.legend()\n",
    "\n",
    "# 4. exp_budget vs cal_mean_c_value\n",
    "ax = plot_results('exp_budget', 'cal_mean_c_value', 'Mean C Value vs Budget', 'Budget per Sample', 'Mean C Value', ax=axes[3])\n",
    "ax.plot(results['exp_budget'].unique(), results['exp_budget'].unique(), color='red', linestyle='--', label='Ideal Budget Used')\n",
    "ax.legend()\n",
    "\n",
    "# 5. exp_budget vs cal_miscoverage\n",
    "ax = plot_results('exp_budget', 'cal_miscoverage', 'Calibration Miscoverage vs Budget', 'Budget per Sample', 'Calibration Miscoverage', ax=axes[4])\n",
    "ax.axhline(y=0.1, color='r', linestyle='--', label='Ideal Miscoverage')\n",
    "ax.legend()\n",
    "\n",
    "# 6. exp_budget vs test_miscoverage\n",
    "ax = plot_results('exp_budget', 'test_miscoverage', 'Test Miscoverage vs Budget', 'Budget per Sample', 'Test Miscoverage', ax=axes[5])\n",
    "ax.axhline(y=0.1, color='r', linestyle='--', label='Ideal Miscoverage')\n",
    "ax.legend()\n",
    "\n",
    "# 7. exp_budget vs test_mean_lpb\n",
    "ax = plot_results('exp_budget', 'test_mean_lpb', 'Test Mean LPB vs Budget', 'Budget per Sample', 'Test Mean LPB', ax=axes[6])\n",
    "\n",
    "# 8. exp_budget vs cal_hours\n",
    "plot_results('exp_budget', 'cal_hours', 'Calibration Hours vs Budget', 'Budget per Sample', 'Hours', ax=axes[7])\n",
    "\n",
    "plt.show()"
   ]
  }
 ],
 "metadata": {
  "kernelspec": {
   "display_name": "llm-survival-final",
   "language": "python",
   "name": "python3"
  },
  "language_info": {
   "codemirror_mode": {
    "name": "ipython",
    "version": 3
   },
   "file_extension": ".py",
   "mimetype": "text/x-python",
   "name": "python",
   "nbconvert_exporter": "python",
   "pygments_lexer": "ipython3",
   "version": "3.11.12"
  }
 },
 "nbformat": 4,
 "nbformat_minor": 5
}
