{
 "cells": [
  {
   "cell_type": "code",
   "execution_count": null,
   "id": "4191168f",
   "metadata": {},
   "outputs": [],
   "source": [
    "import pickle\n",
    "import os\n",
    "\n",
    "from src.survival_runner import SurvivalResult\n",
    "from src.rating.base import RatingResult\n",
    "\n",
    "from tqdm.auto import tqdm"
   ]
  },
  {
   "cell_type": "code",
   "execution_count": null,
   "id": "95ad3c57",
   "metadata": {},
   "outputs": [],
   "source": [
    "test_path = \"data/rtp_500/split_1_0.5_0.1_0.2_0.2/test.pkl\""
   ]
  },
  {
   "cell_type": "code",
   "execution_count": null,
   "id": "4938df36",
   "metadata": {},
   "outputs": [],
   "source": [
    "fragments = [\n",
    "    # \"mini_datasets/multisample_mini_0.pkl\",\n",
    "    # \"mini_datasets_run1/multisample_mini_0.pkl\",\n",
    "    # \"mini_datasets_run2/multisample_mini_0.pkl\",\n",
    "    # \"mini_datasets_run3/multisample_mini_0.pkl\",\n",
    "    # \"mini_datasets_run7/multisample_mini_0.pkl\",\n",
    "]"
   ]
  },
  {
   "cell_type": "code",
   "execution_count": null,
   "id": "5976a1f3",
   "metadata": {},
   "outputs": [],
   "source": [
    "test_data: list[SurvivalResult] = pickle.load(open(test_path, \"rb\"))\n",
    "print(\"Num samples in test data:\", len(test_data))\n",
    "\n",
    "\n",
    "fragment_data: list[list[SurvivalResult]] = []\n",
    "for fragment in fragments:\n",
    "    fragment_data.append(pickle.load(open(fragment, \"rb\")))\n",
    "    print(\"Num samples in fragment:\", len(fragment_data[-1]))"
   ]
  },
  {
   "cell_type": "code",
   "execution_count": null,
   "id": "07d136f6",
   "metadata": {},
   "outputs": [],
   "source": [
    "test_data[0]"
   ]
  },
  {
   "cell_type": "code",
   "execution_count": null,
   "id": "a6f5376f",
   "metadata": {},
   "outputs": [],
   "source": [
    "# now joint all fragments\n",
    "\n",
    "all_data = [test_data]\n",
    "all_data.extend(fragment_data)\n",
    "\n",
    "joint_data: list[SurvivalResult] = []\n",
    "\n",
    "for i in tqdm(range(len(all_data[0]))):\n",
    "    survival_results = [fr[i] for fr in all_data]\n",
    "\n",
    "    new_id = i\n",
    "    prompt = survival_results[0].prompt\n",
    "\n",
    "    max_attempts = sum(res.max_attempts for res in survival_results)\n",
    "    num_attempts = max_attempts\n",
    "    is_toxic = any(res.is_toxic for res in survival_results)\n",
    "\n",
    "    # join ratings\n",
    "    ratings = []\n",
    "    for res in survival_results:\n",
    "        ratings.extend(res.ratings)\n",
    "\n",
    "    new_surv = SurvivalResult(\n",
    "        id=new_id,\n",
    "        prompt=prompt,\n",
    "        max_attempts=max_attempts,\n",
    "        num_attempts=num_attempts,\n",
    "        is_toxic=is_toxic,\n",
    "        ratings=ratings,\n",
    "    )\n",
    "\n",
    "    joint_data.append(new_surv)"
   ]
  },
  {
   "cell_type": "code",
   "execution_count": null,
   "id": "86cb38e1",
   "metadata": {},
   "outputs": [],
   "source": [
    "joint_data_light = []\n",
    "\n",
    "for surv in joint_data:\n",
    "\n",
    "    new_ratings = [RatingResult(text=\"\", scores=rating.scores) for rating in surv.ratings]\n",
    "\n",
    "    light_surv = SurvivalResult(\n",
    "        id=surv.id,\n",
    "        prompt=surv.prompt,\n",
    "        max_attempts=surv.max_attempts,\n",
    "        num_attempts=surv.num_attempts,\n",
    "        is_toxic=surv.is_toxic,\n",
    "        ratings=new_ratings,\n",
    "    )\n",
    "\n",
    "    joint_data_light.append(light_surv)"
   ]
  },
  {
   "cell_type": "code",
   "execution_count": null,
   "id": "9c6e7601",
   "metadata": {},
   "outputs": [],
   "source": [
    "test_path_full = \"data/test_full.pkl\"\n",
    "test_path_light = \"data/test_full_light.pkl\"\n",
    "\n",
    "pickle.dump(joint_data, open(test_path_full, \"wb\"))\n",
    "pickle.dump(joint_data_light, open(test_path_light, \"wb\"))"
   ]
  },
  {
   "cell_type": "code",
   "execution_count": null,
   "id": "f71307fb",
   "metadata": {},
   "outputs": [],
   "source": [
    "# load and test light data\n",
    "loaded_data_light = pickle.load(open(test_path_light, \"rb\"))\n",
    "print(\"Num samples in loaded light data:\", len(loaded_data_light))\n",
    "for i in range(5):\n",
    "    print(\"Sample\", i)\n",
    "    print(\"Prompt:\", loaded_data_light[i].prompt)\n",
    "    print(\"Max attempts:\", loaded_data_light[i].max_attempts)\n",
    "    print(\"Num attempts:\", loaded_data_light[i].num_attempts)\n",
    "    print(\"Is toxic:\", loaded_data_light[i].is_toxic)\n",
    "    print(\"Ratings:\", loaded_data_light[i].ratings)\n",
    "    print()"
   ]
  },
  {
   "cell_type": "code",
   "execution_count": null,
   "id": "68749bc2",
   "metadata": {},
   "outputs": [],
   "source": [
    "# load and test \n",
    "\n",
    "loaded_data = pickle.load(open(test_path_full, \"rb\"))\n",
    "print(\"Num samples in loaded data:\", len(loaded_data))\n",
    "for i in range(5):\n",
    "    print(\"Sample\", i)\n",
    "    print(\"Prompt:\", loaded_data[i].prompt)\n",
    "    print(\"Max attempts:\", loaded_data[i].max_attempts)\n",
    "    print(\"Num attempts:\", loaded_data[i].num_attempts)\n",
    "    print(\"Is toxic:\", loaded_data[i].is_toxic)\n",
    "    print(\"Ratings:\", loaded_data[i].ratings)\n",
    "    print()\n",
    "    \n",
    "# load and test light data\n",
    "loaded_data_light = pickle.load(open(test_path_light, \"rb\"))\n",
    "print(\"Num samples in loaded light data:\", len(loaded_data_light))\n",
    "for i in range(5):\n",
    "    print(\"Sample\", i)\n",
    "    print(\"Prompt:\", loaded_data_light[i].prompt)\n",
    "    print(\"Max attempts:\", loaded_data_light[i].max_attempts)\n",
    "    print(\"Num attempts:\", loaded_data_light[i].num_attempts)\n",
    "    print(\"Is toxic:\", loaded_data_light[i].is_toxic)\n",
    "    print(\"Ratings:\", loaded_data_light[i].ratings)\n",
    "    print()"
   ]
  }
 ],
 "metadata": {
  "kernelspec": {
   "display_name": "vllm4",
   "language": "python",
   "name": "python3"
  },
  "language_info": {
   "codemirror_mode": {
    "name": "ipython",
    "version": 3
   },
   "file_extension": ".py",
   "mimetype": "text/x-python",
   "name": "python",
   "nbconvert_exporter": "python",
   "pygments_lexer": "ipython3",
   "version": "3.11.11"
  }
 },
 "nbformat": 4,
 "nbformat_minor": 5
}
