{
 "cells": [
  {
   "cell_type": "code",
   "execution_count": null,
   "id": "5cbaac81",
   "metadata": {},
   "outputs": [],
   "source": [
    "import pandas as pd\n",
    "import matplotlib.pyplot as plt"
   ]
  },
  {
   "cell_type": "code",
   "execution_count": null,
   "id": "07808171",
   "metadata": {},
   "outputs": [],
   "source": [
    "results_capped_adaptive_path = \"results.csv\"\n",
    "results_capped_adaptive = pd.read_csv(results_capped_adaptive_path)\n",
    "\n",
    "results_global_budget_path = \"results_global.csv\"\n",
    "results_global_budget = pd.read_csv(results_global_budget_path)\n",
    "\n",
    "results = pd.concat([results_capped_adaptive, results_global_budget], axis=0, ignore_index=True)"
   ]
  },
  {
   "cell_type": "code",
   "execution_count": null,
   "id": "4ada7629",
   "metadata": {},
   "outputs": [],
   "source": [
    "display(results)"
   ]
  },
  {
   "cell_type": "code",
   "execution_count": null,
   "id": "7ecd666e",
   "metadata": {},
   "outputs": [],
   "source": [
    "display(results.head())\n",
    "print(results.columns.to_list())"
   ]
  },
  {
   "cell_type": "code",
   "execution_count": null,
   "id": "bda7f11f",
   "metadata": {},
   "outputs": [],
   "source": [
    "import seaborn as sns\n",
    "\n",
    "# in all plots, the legend is exp_name\n",
    "# the x axis in all plots is exp_budget\n",
    "# for each y value create a distinct plot:\n",
    "# 1. exp_budget vs the following: 'tau_hat', 'max_est', 'calib_tau_hat_miscoverage', 'calib_tau_target_miscoverage', 'calib_mean_generated_samples', 'calib_mean_c_value', 'test_tau_hat_lpb', 'test_tau_target_lpb', 'time_delta'\n",
    "\n",
    "# use sns.lineplot to plot the results\n",
    "def plot_results(x, y, title, xlabel, ylabel, ax = None) -> plt.Axes:\n",
    "    \n",
    "    if ax is None:\n",
    "        fig, ax = plt.subplots(figsize=(10, 6))\n",
    "    \n",
    "    # Create a line plot with confidence intervals\n",
    "    ax = sns.lineplot(data=results, x=x, y=y, hue='exp_name', ax=ax, marker=\"o\", errorbar=\"sd\")\n",
    "    ax.set_xscale('log')\n",
    "    ax.set_yscale('log')\n",
    "    return ax\n",
    "    \n",
    "fig, axes = plt.subplots(3, 3, figsize=(25, 15))\n",
    "axes = axes.flatten()\n",
    "        \n",
    "# 1. exp_budget vs tau_hat\n",
    "ax = plot_results('exp_budget', 'tau_hat', 'Estimated tau_hat vs Budget', 'Budget', 'Estimated tau_hat', ax=axes[0])\n",
    "ax.axhline(y=0.1, color='r', linestyle='--', label='True tau')\n",
    "ax.legend()\n",
    "\n",
    "# 2. exp_budget vs max_est\n",
    "plot_results('exp_budget', 'max_est', 'Max Estimation vs Budget', 'Budget', 'Max Estimation', ax=axes[1])\n",
    "\n",
    "# 3. exp_budget vs calib_tau_hat_miscoverage\n",
    "ax = plot_results('exp_budget', 'calib_tau_hat_miscoverage', 'Calibration tau_hat Miscoverage vs Budget', 'Budget', 'Calibration tau_hat Miscoverage', ax=axes[2])\n",
    "ax.axhline(y=0.1, color='r', linestyle='--', label='True tau')\n",
    "ax.legend()\n",
    "\n",
    "# 4. exp_budget vs calib_tau_target_miscoverage\n",
    "ax = plot_results('exp_budget', 'calib_tau_target_miscoverage', 'Calibration tau_target Miscoverage vs Budget', 'Budget', 'Calibration tau_target Miscoverage', ax=axes[3])\n",
    "ax.axhline(y=0.1, color='r', linestyle='--', label='True miscoverage')\n",
    "\n",
    "# 5. exp_budget vs calib_mean_generated_samples\n",
    "ax = plot_results('exp_budget', 'calib_mean_generated_samples', 'Calibration Mean Generated Samples vs Budget', 'Budget', 'Calibration Mean Generated Samples', ax=axes[4])\n",
    "ax.plot(results['exp_budget'].unique(), results['exp_budget'].unique(), color='red', linestyle='--', label='Ideal Line')\n",
    "ax.legend()\n",
    "\n",
    "# 6. exp_budget vs calib_mean_c_value\n",
    "ax = plot_results('exp_budget', 'calib_mean_c_value', 'Calibration Mean C Value vs Budget', 'Budget', 'Calibration Mean C Value', ax=axes[5])\n",
    "ax.plot(results['exp_budget'].unique(), results['exp_budget'].unique(), color='red', linestyle='--', label='Ideal Line')\n",
    "\n",
    "# 7. exp_budget vs test_tau_hat_lpb\n",
    "plot_results('exp_budget', 'test_tau_hat_lpb', 'Test tau_hat LPB vs Budget', 'Budget', 'Test tau_hat LPB', ax=axes[6])\n",
    "\n",
    "# 8. exp_budget vs test_tau_target_lpb\n",
    "plot_results('exp_budget', 'test_tau_target_lpb', 'Test tau_target LPB vs Budget', 'Budget', 'Test tau_target LPB', ax=axes[7])\n",
    "\n",
    "# 9. exp_budget vs time_delta\n",
    "plot_results('exp_budget', 'time_delta', 'Time Delta vs Budget', 'Budget', 'Time Delta', ax=axes[8])\n"
   ]
  }
 ],
 "metadata": {
  "kernelspec": {
   "display_name": "llm-survival5",
   "language": "python",
   "name": "python3"
  },
  "language_info": {
   "codemirror_mode": {
    "name": "ipython",
    "version": 3
   },
   "file_extension": ".py",
   "mimetype": "text/x-python",
   "name": "python",
   "nbconvert_exporter": "python",
   "pygments_lexer": "ipython3",
   "version": "3.11.12"
  }
 },
 "nbformat": 4,
 "nbformat_minor": 5
}
